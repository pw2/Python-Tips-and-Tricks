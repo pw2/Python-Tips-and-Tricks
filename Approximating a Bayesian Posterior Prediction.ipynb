{
 "cells": [
  {
   "cell_type": "markdown",
   "id": "99604b98",
   "metadata": {},
   "source": [
    "### From Gelman & Hill: Data Analysis Using Regression and Multilevel Models (Ch. 7)\n",
    "\n",
    "The idea here is that, before going full Bayesian, we can get a sense for how Bayesian Posterior Predictions work by creating a normal linear regression model and then approximating a Bayesian Posterior Predictive Distribution by sampling from our predictions."
   ]
  },
  {
   "cell_type": "code",
   "execution_count": 1,
   "id": "6cfcd30f",
   "metadata": {},
   "outputs": [],
   "source": [
    "## import libraries\n",
    "\n",
    "from sklearn import datasets\n",
    "import pandas as pd\n",
    "import numpy as np\n",
    "import statsmodels.api as smf\n",
    "from scipy import stats\n",
    "import matplotlib.pyplot as plt"
   ]
  },
  {
   "cell_type": "code",
   "execution_count": 2,
   "id": "16504594",
   "metadata": {},
   "outputs": [
    {
     "data": {
      "text/html": [
       "<div>\n",
       "<style scoped>\n",
       "    .dataframe tbody tr th:only-of-type {\n",
       "        vertical-align: middle;\n",
       "    }\n",
       "\n",
       "    .dataframe tbody tr th {\n",
       "        vertical-align: top;\n",
       "    }\n",
       "\n",
       "    .dataframe thead th {\n",
       "        text-align: right;\n",
       "    }\n",
       "</style>\n",
       "<table border=\"1\" class=\"dataframe\">\n",
       "  <thead>\n",
       "    <tr style=\"text-align: right;\">\n",
       "      <th></th>\n",
       "      <th>sepal_length</th>\n",
       "      <th>sepal_width</th>\n",
       "      <th>petal_length</th>\n",
       "      <th>petal_width</th>\n",
       "    </tr>\n",
       "  </thead>\n",
       "  <tbody>\n",
       "    <tr>\n",
       "      <th>0</th>\n",
       "      <td>5.1</td>\n",
       "      <td>3.5</td>\n",
       "      <td>1.4</td>\n",
       "      <td>0.2</td>\n",
       "    </tr>\n",
       "    <tr>\n",
       "      <th>1</th>\n",
       "      <td>4.9</td>\n",
       "      <td>3.0</td>\n",
       "      <td>1.4</td>\n",
       "      <td>0.2</td>\n",
       "    </tr>\n",
       "    <tr>\n",
       "      <th>2</th>\n",
       "      <td>4.7</td>\n",
       "      <td>3.2</td>\n",
       "      <td>1.3</td>\n",
       "      <td>0.2</td>\n",
       "    </tr>\n",
       "  </tbody>\n",
       "</table>\n",
       "</div>"
      ],
      "text/plain": [
       "   sepal_length  sepal_width  petal_length  petal_width\n",
       "0           5.1          3.5           1.4          0.2\n",
       "1           4.9          3.0           1.4          0.2\n",
       "2           4.7          3.2           1.3          0.2"
      ]
     },
     "execution_count": 2,
     "metadata": {},
     "output_type": "execute_result"
    }
   ],
   "source": [
    "## iris data set\n",
    "iris = datasets.load_iris()\n",
    "\n",
    "## convert to pandas sata frame\n",
    "data = iris['data']\n",
    "target = iris['target']\n",
    "\n",
    "iris_df = pd.DataFrame(data)\n",
    "iris_df.columns = ['sepal_length', 'sepal_width', 'petal_length', 'petal_width']\n",
    "iris_df.head(3)"
   ]
  },
  {
   "cell_type": "markdown",
   "id": "b17b6b87",
   "metadata": {},
   "source": [
    "### Build a linear regression (traditional ordinary least squares)"
   ]
  },
  {
   "cell_type": "code",
   "execution_count": 3,
   "id": "9af500d9",
   "metadata": {},
   "outputs": [],
   "source": [
    "## Set up our X and y variables\n",
    "X = iris_df['petal_length']\n",
    "y = iris_df['petal_width']"
   ]
  },
  {
   "cell_type": "code",
   "execution_count": 4,
   "id": "3b4dbe65",
   "metadata": {},
   "outputs": [
    {
     "name": "stderr",
     "output_type": "stream",
     "text": [
      "/anaconda3/lib/python3.7/site-packages/statsmodels/tsa/tsatools.py:142: FutureWarning: In a future version of pandas all arguments of concat except for the argument 'objs' will be keyword-only\n",
      "  x = pd.concat(x[::order], 1)\n"
     ]
    },
    {
     "data": {
      "text/html": [
       "<table class=\"simpletable\">\n",
       "<caption>OLS Regression Results</caption>\n",
       "<tr>\n",
       "  <th>Dep. Variable:</th>       <td>petal_width</td>   <th>  R-squared:         </th> <td>   0.927</td>\n",
       "</tr>\n",
       "<tr>\n",
       "  <th>Model:</th>                   <td>OLS</td>       <th>  Adj. R-squared:    </th> <td>   0.927</td>\n",
       "</tr>\n",
       "<tr>\n",
       "  <th>Method:</th>             <td>Least Squares</td>  <th>  F-statistic:       </th> <td>   1882.</td>\n",
       "</tr>\n",
       "<tr>\n",
       "  <th>Date:</th>             <td>Sun, 16 Oct 2022</td> <th>  Prob (F-statistic):</th> <td>4.68e-86</td>\n",
       "</tr>\n",
       "<tr>\n",
       "  <th>Time:</th>                 <td>18:49:58</td>     <th>  Log-Likelihood:    </th> <td>  24.796</td>\n",
       "</tr>\n",
       "<tr>\n",
       "  <th>No. Observations:</th>      <td>   150</td>      <th>  AIC:               </th> <td>  -45.59</td>\n",
       "</tr>\n",
       "<tr>\n",
       "  <th>Df Residuals:</th>          <td>   148</td>      <th>  BIC:               </th> <td>  -39.57</td>\n",
       "</tr>\n",
       "<tr>\n",
       "  <th>Df Model:</th>              <td>     1</td>      <th>                     </th>     <td> </td>   \n",
       "</tr>\n",
       "<tr>\n",
       "  <th>Covariance Type:</th>      <td>nonrobust</td>    <th>                     </th>     <td> </td>   \n",
       "</tr>\n",
       "</table>\n",
       "<table class=\"simpletable\">\n",
       "<tr>\n",
       "        <td></td>          <th>coef</th>     <th>std err</th>      <th>t</th>      <th>P>|t|</th>  <th>[0.025</th>    <th>0.975]</th>  \n",
       "</tr>\n",
       "<tr>\n",
       "  <th>const</th>        <td>   -0.3631</td> <td>    0.040</td> <td>   -9.131</td> <td> 0.000</td> <td>   -0.442</td> <td>   -0.285</td>\n",
       "</tr>\n",
       "<tr>\n",
       "  <th>petal_length</th> <td>    0.4158</td> <td>    0.010</td> <td>   43.387</td> <td> 0.000</td> <td>    0.397</td> <td>    0.435</td>\n",
       "</tr>\n",
       "</table>\n",
       "<table class=\"simpletable\">\n",
       "<tr>\n",
       "  <th>Omnibus:</th>       <td> 5.765</td> <th>  Durbin-Watson:     </th> <td>   1.455</td>\n",
       "</tr>\n",
       "<tr>\n",
       "  <th>Prob(Omnibus):</th> <td> 0.056</td> <th>  Jarque-Bera (JB):  </th> <td>   5.555</td>\n",
       "</tr>\n",
       "<tr>\n",
       "  <th>Skew:</th>          <td> 0.359</td> <th>  Prob(JB):          </th> <td>  0.0622</td>\n",
       "</tr>\n",
       "<tr>\n",
       "  <th>Kurtosis:</th>      <td> 3.611</td> <th>  Cond. No.          </th> <td>    10.3</td>\n",
       "</tr>\n",
       "</table><br/><br/>Notes:<br/>[1] Standard Errors assume that the covariance matrix of the errors is correctly specified."
      ],
      "text/plain": [
       "<class 'statsmodels.iolib.summary.Summary'>\n",
       "\"\"\"\n",
       "                            OLS Regression Results                            \n",
       "==============================================================================\n",
       "Dep. Variable:            petal_width   R-squared:                       0.927\n",
       "Model:                            OLS   Adj. R-squared:                  0.927\n",
       "Method:                 Least Squares   F-statistic:                     1882.\n",
       "Date:                Sun, 16 Oct 2022   Prob (F-statistic):           4.68e-86\n",
       "Time:                        18:49:58   Log-Likelihood:                 24.796\n",
       "No. Observations:                 150   AIC:                            -45.59\n",
       "Df Residuals:                     148   BIC:                            -39.57\n",
       "Df Model:                           1                                         \n",
       "Covariance Type:            nonrobust                                         \n",
       "================================================================================\n",
       "                   coef    std err          t      P>|t|      [0.025      0.975]\n",
       "--------------------------------------------------------------------------------\n",
       "const           -0.3631      0.040     -9.131      0.000      -0.442      -0.285\n",
       "petal_length     0.4158      0.010     43.387      0.000       0.397       0.435\n",
       "==============================================================================\n",
       "Omnibus:                        5.765   Durbin-Watson:                   1.455\n",
       "Prob(Omnibus):                  0.056   Jarque-Bera (JB):                5.555\n",
       "Skew:                           0.359   Prob(JB):                       0.0622\n",
       "Kurtosis:                       3.611   Cond. No.                         10.3\n",
       "==============================================================================\n",
       "\n",
       "Notes:\n",
       "[1] Standard Errors assume that the covariance matrix of the errors is correctly specified.\n",
       "\"\"\""
      ]
     },
     "execution_count": 4,
     "metadata": {},
     "output_type": "execute_result"
    }
   ],
   "source": [
    "# NOTE: statsmodels does not automatically add an intercept, so you need to do that manually\n",
    "\n",
    "X = smf.add_constant(X)\n",
    "\n",
    "# Build regression model\n",
    "# NOTE: the X and y variables are reversed in the function compared to sklearn\n",
    "\n",
    "fit_lm = smf.OLS(y, X).fit()\n",
    "\n",
    "# Get an R-like output of the model\n",
    "\n",
    "fit_lm.summary()"
   ]
  },
  {
   "cell_type": "markdown",
   "id": "0c21ca36",
   "metadata": {},
   "source": [
    "### First simulate a distirbution around the Slope Coefficient\n",
    "\n",
    "* The slope coefficient for `petal_length` is 0.4158 with a standard error of 0.01.\n",
    "* We can use this information to build a posterior simulation of the slope coefficient."
   ]
  },
  {
   "cell_type": "code",
   "execution_count": 5,
   "id": "86d6ad71",
   "metadata": {},
   "outputs": [],
   "source": [
    "## get summary stats\n",
    "mu_slope = 0.4158\n",
    "se_slope = 0.01\n",
    "\n",
    "## create simulation\n",
    "n_samples = 10000\n",
    "coef_sim = np.random.normal(loc = mu_slope, scale = se_slope, size = n_samples)"
   ]
  },
  {
   "cell_type": "code",
   "execution_count": 6,
   "id": "5de45ea3",
   "metadata": {},
   "outputs": [
    {
     "data": {
      "image/png": "[encoded data removed]",
      "text/plain": [
       "<Figure size 432x288 with 1 Axes>"
      ]
     },
     "metadata": {
      "needs_background": "light"
     },
     "output_type": "display_data"
    }
   ],
   "source": [
    "## plot simulated distribution\n",
    "\n",
    "plt.hist(coef_sim, bins = 60)\n",
    "plt.show()"
   ]
  },
  {
   "cell_type": "code",
   "execution_count": 58,
   "id": "dc08cc14",
   "metadata": {},
   "outputs": [
    {
     "data": {
      "text/plain": [
       "{'Mean': 0.4162082668715149,\n",
       " 'Low90': 0.3669853338376307,\n",
       " 'High90': 0.46503374384504764}"
      ]
     },
     "execution_count": 58,
     "metadata": {},
     "output_type": "execute_result"
    }
   ],
   "source": [
    "## get summary stats from our simulation\n",
    "summary_stats = {\n",
    "    'Mean': coef_sim.mean(),\n",
    "    'Low90': np.quantile(coef_sim, 0.05),\n",
    "    'High90': np.quantile(coef_sim, 0.95)\n",
    "}\n",
    "\n",
    "summary_stats"
   ]
  },
  {
   "cell_type": "markdown",
   "id": "adcd54cd",
   "metadata": {},
   "source": [
    "### Make a prediction on a new obseration and build a posterior predictive simulation"
   ]
  },
  {
   "cell_type": "code",
   "execution_count": 69,
   "id": "0102f316",
   "metadata": {},
   "outputs": [
    {
     "data": {
      "text/plain": [
       "array([[1. , 1.7]])"
      ]
     },
     "execution_count": 69,
     "metadata": {},
     "output_type": "execute_result"
    }
   ],
   "source": [
    "new_dat = np.array([[1, 1.7]])    # add a 1 upfront to indicate the model intercept\n",
    "new_dat"
   ]
  },
  {
   "cell_type": "code",
   "execution_count": 70,
   "id": "141ae117",
   "metadata": {},
   "outputs": [
    {
     "data": {
      "text/plain": [
       "<statsmodels.regression._prediction.PredictionResults at 0x1234971d0>"
      ]
     },
     "execution_count": 70,
     "metadata": {},
     "output_type": "execute_result"
    }
   ],
   "source": [
    "prediction = fit_lm.get_prediction(new_dat)\n",
    "prediction"
   ]
  },
  {
   "cell_type": "code",
   "execution_count": 71,
   "id": "0e729754",
   "metadata": {},
   "outputs": [
    {
     "data": {
      "text/html": [
       "<div>\n",
       "<style scoped>\n",
       "    .dataframe tbody tr th:only-of-type {\n",
       "        vertical-align: middle;\n",
       "    }\n",
       "\n",
       "    .dataframe tbody tr th {\n",
       "        vertical-align: top;\n",
       "    }\n",
       "\n",
       "    .dataframe thead th {\n",
       "        text-align: right;\n",
       "    }\n",
       "</style>\n",
       "<table border=\"1\" class=\"dataframe\">\n",
       "  <thead>\n",
       "    <tr style=\"text-align: right;\">\n",
       "      <th></th>\n",
       "      <th>mean</th>\n",
       "      <th>mean_se</th>\n",
       "      <th>mean_ci_lower</th>\n",
       "      <th>mean_ci_upper</th>\n",
       "      <th>obs_ci_lower</th>\n",
       "      <th>obs_ci_upper</th>\n",
       "    </tr>\n",
       "  </thead>\n",
       "  <tbody>\n",
       "    <tr>\n",
       "      <th>0</th>\n",
       "      <td>0.343709</td>\n",
       "      <td>0.025945</td>\n",
       "      <td>0.292438</td>\n",
       "      <td>0.394979</td>\n",
       "      <td>-0.067538</td>\n",
       "      <td>0.754956</td>\n",
       "    </tr>\n",
       "  </tbody>\n",
       "</table>\n",
       "</div>"
      ],
      "text/plain": [
       "       mean   mean_se  mean_ci_lower  mean_ci_upper  obs_ci_lower  \\\n",
       "0  0.343709  0.025945       0.292438       0.394979     -0.067538   \n",
       "\n",
       "   obs_ci_upper  \n",
       "0      0.754956  "
      ]
     },
     "execution_count": 71,
     "metadata": {},
     "output_type": "execute_result"
    }
   ],
   "source": [
    "prediction.summary_frame()"
   ]
  },
  {
   "cell_type": "markdown",
   "id": "da723438",
   "metadata": {},
   "source": [
    "* We want to create a posterior predictive distribution for this individual new observation (not a population average). Thus, we will use the prediction interval, which is called `obs_ci_lower` and `obs_ci_upper` here."
   ]
  },
  {
   "cell_type": "code",
   "execution_count": 72,
   "id": "f00f5d76",
   "metadata": {},
   "outputs": [],
   "source": [
    "mu_pred = 0.343709\n",
    "se_pred = 0.754956 - 0.343709     # subtract the upper prediction interval from the mean to get the variability\n",
    "n_sims = 10000\n",
    "\n",
    "pred_obs = np.random.normal(loc = mu_pred, scale = se_pred, size = n_sims)"
   ]
  },
  {
   "cell_type": "code",
   "execution_count": 73,
   "id": "228b3b96",
   "metadata": {},
   "outputs": [
    {
     "data": {
      "image/png": "[encoded data removed]",
      "text/plain": [
       "<Figure size 432x288 with 1 Axes>"
      ]
     },
     "metadata": {
      "needs_background": "light"
     },
     "output_type": "display_data"
    }
   ],
   "source": [
    "plt.hist(pred_obs, bins = 60)\n",
    "plt.show()"
   ]
  },
  {
   "cell_type": "code",
   "execution_count": 74,
   "id": "284be89b",
   "metadata": {},
   "outputs": [
    {
     "data": {
      "text/plain": [
       "{'Mean': 0.35544530885021625,\n",
       " 'Low90': -0.3178877847515099,\n",
       " 'High90': 1.044449387252352}"
      ]
     },
     "execution_count": 74,
     "metadata": {},
     "output_type": "execute_result"
    }
   ],
   "source": [
    "## get summary stats from our simulation\n",
    "summary_stats = {\n",
    "    'Mean': pred_obs.mean(),\n",
    "    'Low90': np.quantile(pred_obs, 0.05),\n",
    "    'High90': np.quantile(pred_obs, 0.95)\n",
    "}\n",
    "\n",
    "summary_stats"
   ]
  },
  {
   "cell_type": "markdown",
   "id": "df871173",
   "metadata": {},
   "source": [
    "### How was the prediction interval calculated?\n",
    "\n",
    "* It may help to see how a prediciton interval (and confidence interval) are calculated by hand, so that we can have an apprecication for how they work and how we can use them in other scenarios.\n",
    "\n",
    "**First, to calculate either the the confidence interval or prediction interval there are a few pieces of information that we need:**\n",
    "\n",
    "1) The model degrees of freedom, which is called `DF Residual` in our model output above.\n",
    "\n",
    "\n",
    "2) The number of observations in our data.\n",
    "\n",
    "\n",
    "3) The t-critical value that represents how certain we want to be (here we will build a 95% Interval).\n",
    "\n",
    "\n",
    "4) The average and standard deviation of the independent variable (`petal_length`) in our data.\n",
    "\n",
    "5) The residual standard error for the model."
   ]
  },
  {
   "cell_type": "code",
   "execution_count": 91,
   "id": "46b1d117",
   "metadata": {},
   "outputs": [],
   "source": [
    "model_df = 148    # this makes sense given that we have 2 parameters in our model (slope & intercept) so degrees of freedom is 150 - 2\n",
    "n_obs = len(iris_df)\n",
    "petal_length_mean = iris_df['petal_length'].mean()\n",
    "petal_length_sd = iris_df['petal_length'].std()"
   ]
  },
  {
   "cell_type": "markdown",
   "id": "9ed16308",
   "metadata": {},
   "source": [
    "Next we need the `t-critical value`. For this you need:\n",
    "\n",
    "1) Model degrees of freedom (which we have above)\n",
    "\n",
    "2) The alpha level corresponding to the percent of confidence you want for your interval\n",
    "\n",
    "We are interested in 95% confidence, meaning that the interval should encompass 95% of the distribution. Thus, we are left with 5% (1 - 0.95) of the data in the tails. Because this is a two sided test we end up shaving 2.5% (0.05 / 2) off both the right and left sides of the distribution. Thus, we end up with `0.025` in the left tail and `0.975` in the right tail. Let's use that upper tail percentage to get our t-critical value.\n",
    "\n",
    "**NOTE: General rule of thumb, if you have a good amount of data is that the critical value for 90% is 1.65, 95% is 1.96 (often times people round this up to 2, to be safe), and for 99% is 2.58** \n"
   ]
  },
  {
   "cell_type": "code",
   "execution_count": 94,
   "id": "dfa0f10b",
   "metadata": {},
   "outputs": [
    {
     "data": {
      "text/plain": [
       "1.9761224936033632"
      ]
     },
     "execution_count": 94,
     "metadata": {},
     "output_type": "execute_result"
    }
   ],
   "source": [
    "t_crit = stats.t(df = model_df).ppf(0.975)\n",
    "t_crit"
   ]
  },
  {
   "cell_type": "markdown",
   "id": "c9d047cd",
   "metadata": {},
   "source": [
    "Now that we have the t-critical value, the final piece is the model's residual standard error. This is simply calculated as:\n",
    "\n",
    "$rse = sqrt((sum.of.squared.residuals)^2 / model.df)$"
   ]
  },
  {
   "cell_type": "code",
   "execution_count": 110,
   "id": "5c887c4a",
   "metadata": {},
   "outputs": [
    {
     "data": {
      "text/plain": [
       "0.20648434891360867"
      ]
     },
     "execution_count": 110,
     "metadata": {},
     "output_type": "execute_result"
    }
   ],
   "source": [
    "predicted_values = fit_lm.predict()\n",
    "squared_resid = (y - predicted_values)**2\n",
    "sum_squared_resid = sum_squared_resid.sum()\n",
    "\n",
    "rse = np.sqrt(sum_squared_resid / model_df)\n",
    "rse"
   ]
  },
  {
   "cell_type": "markdown",
   "id": "c0c8c222",
   "metadata": {},
   "source": [
    "**Prediction Interval Calculation**\n",
    "\n",
    "Now that we have the ingredients, we calculate the prediction interval:\n",
    "\n",
    "$pred.interval95 = t.crit * rse * sqrt(1 + 1 / N.obs + ((petal.length.obs - petal.length.avg)^2) / ((N - 1) * petal.length.sd^2))$"
   ]
  },
  {
   "cell_type": "code",
   "execution_count": 130,
   "id": "77380f33",
   "metadata": {},
   "outputs": [
    {
     "data": {
      "text/plain": [
       "0.4112468496052437"
      ]
     },
     "execution_count": 130,
     "metadata": {},
     "output_type": "execute_result"
    }
   ],
   "source": [
    "pred95 = t_crit * rse * np.sqrt(1 + 1/n_obs + ((new_dat[0][1] - petal_length_mean)**2) / ((n_obs - 1) * petal_length_sd**2))\n",
    "pred95"
   ]
  },
  {
   "cell_type": "code",
   "execution_count": 132,
   "id": "ea2469f0",
   "metadata": {},
   "outputs": [
    {
     "data": {
      "text/plain": [
       "0.411247"
      ]
     },
     "execution_count": 132,
     "metadata": {},
     "output_type": "execute_result"
    }
   ],
   "source": [
    "## Confirm that we got the same result as the function above from statsmodels.api gave us.\n",
    "se_pred"
   ]
  },
  {
   "cell_type": "markdown",
   "id": "fc085cc4",
   "metadata": {},
   "source": [
    "**It worked!**"
   ]
  },
  {
   "cell_type": "markdown",
   "id": "e9f238eb",
   "metadata": {},
   "source": [
    "### How is a Confidence Interval Created?\n",
    "\n",
    "The calculation for our confidence interval is a similar to that of the prediction interval but we are missing one of the terms (we are estimating at a population level here, so we don't have to bake in additional uncertainty). The good news is that we already have the ingredients. The confidence level can be calculated as such:\n",
    "\n",
    "$CL95 = t.crit * rse * sqrt(1/N.obs + ((petal.length.obs - petal.length.avg)^2) / ((N.obs - 1) * petal.length.sd^2))$"
   ]
  },
  {
   "cell_type": "code",
   "execution_count": 133,
   "id": "5540f54c",
   "metadata": {},
   "outputs": [
    {
     "data": {
      "text/plain": [
       "0.05127048666266827"
      ]
     },
     "execution_count": 133,
     "metadata": {},
     "output_type": "execute_result"
    }
   ],
   "source": [
    "cl95 = t_crit * rse * np.sqrt(1/n_obs + ((new_dat[0][1] - petal_length_mean)**2) / ((n_obs - 1) * petal_length_sd**2))\n",
    "cl95"
   ]
  },
  {
   "cell_type": "code",
   "execution_count": 134,
   "id": "ac4d644b",
   "metadata": {},
   "outputs": [
    {
     "data": {
      "text/plain": [
       "0.05127000000000004"
      ]
     },
     "execution_count": 134,
     "metadata": {},
     "output_type": "execute_result"
    }
   ],
   "source": [
    "## Subtract the mean prediction for the new observation from the upper confidence interval, from the above\n",
    "# table to get the Confidence Level from statsmodels.api\n",
    "\n",
    "0.394979 - 0.343709"
   ]
  },
  {
   "cell_type": "markdown",
   "id": "dabefd3c",
   "metadata": {},
   "source": [
    "**Our math checks out and we get the same result! Notice that the Confidence Interval is smaller than the Prediciton Interval because, again, we are making population inference with the Confidence Interval and thus we don't have as much uncertainty as we would if we were estimating for a single observation.**"
   ]
  },
  {
   "cell_type": "code",
   "execution_count": null,
   "id": "1e28e2cf",
   "metadata": {},
   "outputs": [],
   "source": []
  }
 ],
 "metadata": {
  "kernelspec": {
   "display_name": "Python 3 (ipykernel)",
   "language": "python",
   "name": "python3"
  },
  "language_info": {
   "codemirror_mode": {
    "name": "ipython",
    "version": 3
   },
   "file_extension": ".py",
   "mimetype": "text/x-python",
   "name": "python",
   "nbconvert_exporter": "python",
   "pygments_lexer": "ipython3",
   "version": "3.7.7"
  }
 },
 "nbformat": 4,
 "nbformat_minor": 5
}
