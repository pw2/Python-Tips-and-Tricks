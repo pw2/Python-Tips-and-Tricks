{
 "cells": [
  {
   "cell_type": "markdown",
   "id": "22c77c42",
   "metadata": {},
   "source": [
    "# Load Libraries & Data"
   ]
  },
  {
   "cell_type": "code",
   "execution_count": 70,
   "id": "69da2e3a",
   "metadata": {},
   "outputs": [],
   "source": [
    "## Stats libraries\n",
    "from sklearn import datasets\n",
    "from scipy import stats\n",
    "import statsmodels.api as smf\n",
    "import researchpy as rp\n",
    "\n",
    "## Data frame and plotting libraries\n",
    "import pandas as pd\n",
    "import numpy as np\n",
    "import matplotlib.pyplot as plt\n",
    "import seaborn as sns"
   ]
  },
  {
   "cell_type": "code",
   "execution_count": 2,
   "id": "3b297756",
   "metadata": {},
   "outputs": [],
   "source": [
    "iris = datasets.load_iris()"
   ]
  },
  {
   "cell_type": "code",
   "execution_count": 3,
   "id": "b4be117a",
   "metadata": {},
   "outputs": [],
   "source": [
    "data = iris['data']\n",
    "target = iris['target']\n",
    "\n",
    "df = pd.DataFrame(data)\n",
    "df.columns = ['sepal_length', 'sepal_width', 'petal_length', 'petal_width']\n",
    "df['target'] = target"
   ]
  },
  {
   "cell_type": "code",
   "execution_count": 4,
   "id": "a54c21a5",
   "metadata": {},
   "outputs": [
    {
     "data": {
      "text/html": [
       "<div>\n",
       "<style scoped>\n",
       "    .dataframe tbody tr th:only-of-type {\n",
       "        vertical-align: middle;\n",
       "    }\n",
       "\n",
       "    .dataframe tbody tr th {\n",
       "        vertical-align: top;\n",
       "    }\n",
       "\n",
       "    .dataframe thead th {\n",
       "        text-align: right;\n",
       "    }\n",
       "</style>\n",
       "<table border=\"1\" class=\"dataframe\">\n",
       "  <thead>\n",
       "    <tr style=\"text-align: right;\">\n",
       "      <th></th>\n",
       "      <th>sepal_length</th>\n",
       "      <th>sepal_width</th>\n",
       "      <th>petal_length</th>\n",
       "      <th>petal_width</th>\n",
       "      <th>target</th>\n",
       "    </tr>\n",
       "  </thead>\n",
       "  <tbody>\n",
       "    <tr>\n",
       "      <th>0</th>\n",
       "      <td>5.1</td>\n",
       "      <td>3.5</td>\n",
       "      <td>1.4</td>\n",
       "      <td>0.2</td>\n",
       "      <td>0</td>\n",
       "    </tr>\n",
       "    <tr>\n",
       "      <th>1</th>\n",
       "      <td>4.9</td>\n",
       "      <td>3.0</td>\n",
       "      <td>1.4</td>\n",
       "      <td>0.2</td>\n",
       "      <td>0</td>\n",
       "    </tr>\n",
       "    <tr>\n",
       "      <th>2</th>\n",
       "      <td>4.7</td>\n",
       "      <td>3.2</td>\n",
       "      <td>1.3</td>\n",
       "      <td>0.2</td>\n",
       "      <td>0</td>\n",
       "    </tr>\n",
       "    <tr>\n",
       "      <th>3</th>\n",
       "      <td>4.6</td>\n",
       "      <td>3.1</td>\n",
       "      <td>1.5</td>\n",
       "      <td>0.2</td>\n",
       "      <td>0</td>\n",
       "    </tr>\n",
       "    <tr>\n",
       "      <th>4</th>\n",
       "      <td>5.0</td>\n",
       "      <td>3.6</td>\n",
       "      <td>1.4</td>\n",
       "      <td>0.2</td>\n",
       "      <td>0</td>\n",
       "    </tr>\n",
       "  </tbody>\n",
       "</table>\n",
       "</div>"
      ],
      "text/plain": [
       "   sepal_length  sepal_width  petal_length  petal_width  target\n",
       "0           5.1          3.5           1.4          0.2       0\n",
       "1           4.9          3.0           1.4          0.2       0\n",
       "2           4.7          3.2           1.3          0.2       0\n",
       "3           4.6          3.1           1.5          0.2       0\n",
       "4           5.0          3.6           1.4          0.2       0"
      ]
     },
     "execution_count": 4,
     "metadata": {},
     "output_type": "execute_result"
    }
   ],
   "source": [
    "df.head()"
   ]
  },
  {
   "cell_type": "code",
   "execution_count": 5,
   "id": "c278fa60",
   "metadata": {},
   "outputs": [],
   "source": [
    "def species_label(species):\n",
    "    if species == 0:\n",
    "        return 'setosa'\n",
    "    if species == 1:\n",
    "        return 'versicolor'\n",
    "    if species == 2:\n",
    "        return 'virginica'"
   ]
  },
  {
   "cell_type": "code",
   "execution_count": 6,
   "id": "4c9103db",
   "metadata": {},
   "outputs": [],
   "source": [
    "df['species'] = df['target'].apply(species_label)"
   ]
  },
  {
   "cell_type": "code",
   "execution_count": 57,
   "id": "dd8fe9dc",
   "metadata": {},
   "outputs": [
    {
     "data": {
      "text/html": [
       "<div>\n",
       "<style scoped>\n",
       "    .dataframe tbody tr th:only-of-type {\n",
       "        vertical-align: middle;\n",
       "    }\n",
       "\n",
       "    .dataframe tbody tr th {\n",
       "        vertical-align: top;\n",
       "    }\n",
       "\n",
       "    .dataframe thead th {\n",
       "        text-align: right;\n",
       "    }\n",
       "</style>\n",
       "<table border=\"1\" class=\"dataframe\">\n",
       "  <thead>\n",
       "    <tr style=\"text-align: right;\">\n",
       "      <th></th>\n",
       "      <th>sepal_length</th>\n",
       "      <th>sepal_width</th>\n",
       "      <th>petal_length</th>\n",
       "      <th>petal_width</th>\n",
       "      <th>target</th>\n",
       "      <th>species</th>\n",
       "    </tr>\n",
       "  </thead>\n",
       "  <tbody>\n",
       "    <tr>\n",
       "      <th>0</th>\n",
       "      <td>5.1</td>\n",
       "      <td>3.5</td>\n",
       "      <td>1.4</td>\n",
       "      <td>0.2</td>\n",
       "      <td>0</td>\n",
       "      <td>setosa</td>\n",
       "    </tr>\n",
       "    <tr>\n",
       "      <th>1</th>\n",
       "      <td>4.9</td>\n",
       "      <td>3.0</td>\n",
       "      <td>1.4</td>\n",
       "      <td>0.2</td>\n",
       "      <td>0</td>\n",
       "      <td>setosa</td>\n",
       "    </tr>\n",
       "    <tr>\n",
       "      <th>2</th>\n",
       "      <td>4.7</td>\n",
       "      <td>3.2</td>\n",
       "      <td>1.3</td>\n",
       "      <td>0.2</td>\n",
       "      <td>0</td>\n",
       "      <td>setosa</td>\n",
       "    </tr>\n",
       "    <tr>\n",
       "      <th>3</th>\n",
       "      <td>4.6</td>\n",
       "      <td>3.1</td>\n",
       "      <td>1.5</td>\n",
       "      <td>0.2</td>\n",
       "      <td>0</td>\n",
       "      <td>setosa</td>\n",
       "    </tr>\n",
       "    <tr>\n",
       "      <th>4</th>\n",
       "      <td>5.0</td>\n",
       "      <td>3.6</td>\n",
       "      <td>1.4</td>\n",
       "      <td>0.2</td>\n",
       "      <td>0</td>\n",
       "      <td>setosa</td>\n",
       "    </tr>\n",
       "  </tbody>\n",
       "</table>\n",
       "</div>"
      ],
      "text/plain": [
       "   sepal_length  sepal_width  petal_length  petal_width  target species\n",
       "0           5.1          3.5           1.4          0.2       0  setosa\n",
       "1           4.9          3.0           1.4          0.2       0  setosa\n",
       "2           4.7          3.2           1.3          0.2       0  setosa\n",
       "3           4.6          3.1           1.5          0.2       0  setosa\n",
       "4           5.0          3.6           1.4          0.2       0  setosa"
      ]
     },
     "execution_count": 57,
     "metadata": {},
     "output_type": "execute_result"
    }
   ],
   "source": [
    "df.head()"
   ]
  },
  {
   "cell_type": "markdown",
   "id": "b7b2d36b",
   "metadata": {},
   "source": [
    "# EDA"
   ]
  },
  {
   "cell_type": "code",
   "execution_count": 58,
   "id": "adacba29",
   "metadata": {},
   "outputs": [
    {
     "data": {
      "text/plain": [
       "setosa        50\n",
       "versicolor    50\n",
       "virginica     50\n",
       "Name: species, dtype: int64"
      ]
     },
     "execution_count": 58,
     "metadata": {},
     "output_type": "execute_result"
    }
   ],
   "source": [
    "df['species'].value_counts()"
   ]
  },
  {
   "cell_type": "code",
   "execution_count": 63,
   "id": "f8aa9979",
   "metadata": {},
   "outputs": [
    {
     "data": {
      "text/html": [
       "<div>\n",
       "<style scoped>\n",
       "    .dataframe tbody tr th:only-of-type {\n",
       "        vertical-align: middle;\n",
       "    }\n",
       "\n",
       "    .dataframe tbody tr th {\n",
       "        vertical-align: top;\n",
       "    }\n",
       "\n",
       "    .dataframe thead th {\n",
       "        text-align: right;\n",
       "    }\n",
       "</style>\n",
       "<table border=\"1\" class=\"dataframe\">\n",
       "  <thead>\n",
       "    <tr style=\"text-align: right;\">\n",
       "      <th></th>\n",
       "      <th>sepal_length</th>\n",
       "      <th>sepal_width</th>\n",
       "      <th>petal_length</th>\n",
       "    </tr>\n",
       "  </thead>\n",
       "  <tbody>\n",
       "    <tr>\n",
       "      <th>count</th>\n",
       "      <td>150.000000</td>\n",
       "      <td>150.000000</td>\n",
       "      <td>150.000000</td>\n",
       "    </tr>\n",
       "    <tr>\n",
       "      <th>mean</th>\n",
       "      <td>5.843333</td>\n",
       "      <td>3.057333</td>\n",
       "      <td>3.758000</td>\n",
       "    </tr>\n",
       "    <tr>\n",
       "      <th>std</th>\n",
       "      <td>0.828066</td>\n",
       "      <td>0.435866</td>\n",
       "      <td>1.765298</td>\n",
       "    </tr>\n",
       "    <tr>\n",
       "      <th>min</th>\n",
       "      <td>4.300000</td>\n",
       "      <td>2.000000</td>\n",
       "      <td>1.000000</td>\n",
       "    </tr>\n",
       "    <tr>\n",
       "      <th>25%</th>\n",
       "      <td>5.100000</td>\n",
       "      <td>2.800000</td>\n",
       "      <td>1.600000</td>\n",
       "    </tr>\n",
       "    <tr>\n",
       "      <th>50%</th>\n",
       "      <td>5.800000</td>\n",
       "      <td>3.000000</td>\n",
       "      <td>4.350000</td>\n",
       "    </tr>\n",
       "    <tr>\n",
       "      <th>75%</th>\n",
       "      <td>6.400000</td>\n",
       "      <td>3.300000</td>\n",
       "      <td>5.100000</td>\n",
       "    </tr>\n",
       "    <tr>\n",
       "      <th>max</th>\n",
       "      <td>7.900000</td>\n",
       "      <td>4.400000</td>\n",
       "      <td>6.900000</td>\n",
       "    </tr>\n",
       "  </tbody>\n",
       "</table>\n",
       "</div>"
      ],
      "text/plain": [
       "       sepal_length  sepal_width  petal_length\n",
       "count    150.000000   150.000000    150.000000\n",
       "mean       5.843333     3.057333      3.758000\n",
       "std        0.828066     0.435866      1.765298\n",
       "min        4.300000     2.000000      1.000000\n",
       "25%        5.100000     2.800000      1.600000\n",
       "50%        5.800000     3.000000      4.350000\n",
       "75%        6.400000     3.300000      5.100000\n",
       "max        7.900000     4.400000      6.900000"
      ]
     },
     "execution_count": 63,
     "metadata": {},
     "output_type": "execute_result"
    }
   ],
   "source": [
    "df.iloc[:,0:3].describe()"
   ]
  },
  {
   "cell_type": "code",
   "execution_count": 69,
   "id": "8c94ad65",
   "metadata": {},
   "outputs": [
    {
     "data": {
      "text/html": [
       "<div>\n",
       "<style scoped>\n",
       "    .dataframe tbody tr th:only-of-type {\n",
       "        vertical-align: middle;\n",
       "    }\n",
       "\n",
       "    .dataframe tbody tr th {\n",
       "        vertical-align: top;\n",
       "    }\n",
       "\n",
       "    .dataframe thead th {\n",
       "        text-align: right;\n",
       "    }\n",
       "</style>\n",
       "<table border=\"1\" class=\"dataframe\">\n",
       "  <thead>\n",
       "    <tr style=\"text-align: right;\">\n",
       "      <th></th>\n",
       "      <th>count</th>\n",
       "      <th>mean</th>\n",
       "      <th>std</th>\n",
       "      <th>min</th>\n",
       "      <th>25%</th>\n",
       "      <th>50%</th>\n",
       "      <th>75%</th>\n",
       "      <th>max</th>\n",
       "    </tr>\n",
       "    <tr>\n",
       "      <th>species</th>\n",
       "      <th></th>\n",
       "      <th></th>\n",
       "      <th></th>\n",
       "      <th></th>\n",
       "      <th></th>\n",
       "      <th></th>\n",
       "      <th></th>\n",
       "      <th></th>\n",
       "    </tr>\n",
       "  </thead>\n",
       "  <tbody>\n",
       "    <tr>\n",
       "      <th>setosa</th>\n",
       "      <td>50.0</td>\n",
       "      <td>5.006</td>\n",
       "      <td>0.352490</td>\n",
       "      <td>4.3</td>\n",
       "      <td>4.800</td>\n",
       "      <td>5.0</td>\n",
       "      <td>5.2</td>\n",
       "      <td>5.8</td>\n",
       "    </tr>\n",
       "    <tr>\n",
       "      <th>versicolor</th>\n",
       "      <td>50.0</td>\n",
       "      <td>5.936</td>\n",
       "      <td>0.516171</td>\n",
       "      <td>4.9</td>\n",
       "      <td>5.600</td>\n",
       "      <td>5.9</td>\n",
       "      <td>6.3</td>\n",
       "      <td>7.0</td>\n",
       "    </tr>\n",
       "    <tr>\n",
       "      <th>virginica</th>\n",
       "      <td>50.0</td>\n",
       "      <td>6.588</td>\n",
       "      <td>0.635880</td>\n",
       "      <td>4.9</td>\n",
       "      <td>6.225</td>\n",
       "      <td>6.5</td>\n",
       "      <td>6.9</td>\n",
       "      <td>7.9</td>\n",
       "    </tr>\n",
       "  </tbody>\n",
       "</table>\n",
       "</div>"
      ],
      "text/plain": [
       "            count   mean       std  min    25%  50%  75%  max\n",
       "species                                                      \n",
       "setosa       50.0  5.006  0.352490  4.3  4.800  5.0  5.2  5.8\n",
       "versicolor   50.0  5.936  0.516171  4.9  5.600  5.9  6.3  7.0\n",
       "virginica    50.0  6.588  0.635880  4.9  6.225  6.5  6.9  7.9"
      ]
     },
     "execution_count": 69,
     "metadata": {},
     "output_type": "execute_result"
    }
   ],
   "source": [
    "df.groupby('species')['sepal_length'].describe()"
   ]
  },
  {
   "cell_type": "code",
   "execution_count": 72,
   "id": "2e1eb926",
   "metadata": {},
   "outputs": [
    {
     "data": {
      "text/plain": [
       "<AxesSubplot:xlabel='sepal_length', ylabel='Density'>"
      ]
     },
     "execution_count": 72,
     "metadata": {},
     "output_type": "execute_result"
    },
    {
     "data": {
      "image/png": "[encoded data removed]",
      "text/plain": [
       "<Figure size 432x288 with 1 Axes>"
      ]
     },
     "metadata": {
      "needs_background": "light"
     },
     "output_type": "display_data"
    }
   ],
   "source": [
    "sns.kdeplot(df['sepal_length'], shade = True)"
   ]
  },
  {
   "cell_type": "code",
   "execution_count": 77,
   "id": "4e89e00f",
   "metadata": {},
   "outputs": [
    {
     "data": {
      "text/plain": [
       "<AxesSubplot:xlabel='sepal_length', ylabel='Density'>"
      ]
     },
     "execution_count": 77,
     "metadata": {},
     "output_type": "execute_result"
    },
    {
     "data": {
      "image/png": "[encoded data removed]",
      "text/plain": [
       "<Figure size 720x432 with 1 Axes>"
      ]
     },
     "metadata": {
      "needs_background": "light"
     },
     "output_type": "display_data"
    }
   ],
   "source": [
    "plt.figure(figsize = (10, 6))\n",
    "sns.kdeplot(df['sepal_length'], shade = True, hue = df['species'])"
   ]
  },
  {
   "cell_type": "markdown",
   "id": "ae49b8b8",
   "metadata": {},
   "source": [
    "## t-test\n",
    "\n",
    "**Let's compare two of the species groups using a t-test.**"
   ]
  },
  {
   "cell_type": "code",
   "execution_count": 80,
   "id": "6845b91e",
   "metadata": {},
   "outputs": [
    {
     "data": {
      "text/html": [
       "<div>\n",
       "<style scoped>\n",
       "    .dataframe tbody tr th:only-of-type {\n",
       "        vertical-align: middle;\n",
       "    }\n",
       "\n",
       "    .dataframe tbody tr th {\n",
       "        vertical-align: top;\n",
       "    }\n",
       "\n",
       "    .dataframe thead th {\n",
       "        text-align: right;\n",
       "    }\n",
       "</style>\n",
       "<table border=\"1\" class=\"dataframe\">\n",
       "  <thead>\n",
       "    <tr style=\"text-align: right;\">\n",
       "      <th></th>\n",
       "      <th>sepal_length</th>\n",
       "      <th>sepal_width</th>\n",
       "      <th>petal_length</th>\n",
       "      <th>petal_width</th>\n",
       "      <th>target</th>\n",
       "      <th>species</th>\n",
       "    </tr>\n",
       "  </thead>\n",
       "  <tbody>\n",
       "    <tr>\n",
       "      <th>0</th>\n",
       "      <td>5.1</td>\n",
       "      <td>3.5</td>\n",
       "      <td>1.4</td>\n",
       "      <td>0.2</td>\n",
       "      <td>0</td>\n",
       "      <td>setosa</td>\n",
       "    </tr>\n",
       "    <tr>\n",
       "      <th>1</th>\n",
       "      <td>4.9</td>\n",
       "      <td>3.0</td>\n",
       "      <td>1.4</td>\n",
       "      <td>0.2</td>\n",
       "      <td>0</td>\n",
       "      <td>setosa</td>\n",
       "    </tr>\n",
       "    <tr>\n",
       "      <th>2</th>\n",
       "      <td>4.7</td>\n",
       "      <td>3.2</td>\n",
       "      <td>1.3</td>\n",
       "      <td>0.2</td>\n",
       "      <td>0</td>\n",
       "      <td>setosa</td>\n",
       "    </tr>\n",
       "    <tr>\n",
       "      <th>3</th>\n",
       "      <td>4.6</td>\n",
       "      <td>3.1</td>\n",
       "      <td>1.5</td>\n",
       "      <td>0.2</td>\n",
       "      <td>0</td>\n",
       "      <td>setosa</td>\n",
       "    </tr>\n",
       "    <tr>\n",
       "      <th>4</th>\n",
       "      <td>5.0</td>\n",
       "      <td>3.6</td>\n",
       "      <td>1.4</td>\n",
       "      <td>0.2</td>\n",
       "      <td>0</td>\n",
       "      <td>setosa</td>\n",
       "    </tr>\n",
       "  </tbody>\n",
       "</table>\n",
       "</div>"
      ],
      "text/plain": [
       "   sepal_length  sepal_width  petal_length  petal_width  target species\n",
       "0           5.1          3.5           1.4          0.2       0  setosa\n",
       "1           4.9          3.0           1.4          0.2       0  setosa\n",
       "2           4.7          3.2           1.3          0.2       0  setosa\n",
       "3           4.6          3.1           1.5          0.2       0  setosa\n",
       "4           5.0          3.6           1.4          0.2       0  setosa"
      ]
     },
     "execution_count": 80,
     "metadata": {},
     "output_type": "execute_result"
    }
   ],
   "source": [
    "## get two groups to compare\n",
    "two_groups =  [\"setosa\", 'versicolor']\n",
    "\n",
    "## create a data frame of the two groups\n",
    "df2 = df[df['species'].isin(two_groups)]\n",
    "df2.head()"
   ]
  },
  {
   "cell_type": "code",
   "execution_count": 81,
   "id": "4f04700e",
   "metadata": {},
   "outputs": [
    {
     "name": "stderr",
     "output_type": "stream",
     "text": [
      "/anaconda3/lib/python3.7/site-packages/ipykernel_launcher.py:2: UserWarning: Boolean Series key will be reindexed to match DataFrame index.\n",
      "  \n",
      "/anaconda3/lib/python3.7/site-packages/ipykernel_launcher.py:3: UserWarning: Boolean Series key will be reindexed to match DataFrame index.\n",
      "  This is separate from the ipykernel package so we can avoid doing imports until\n"
     ]
    },
    {
     "data": {
      "text/plain": [
       "(-10.5209862675491, 8.985235037487594e-18, 98.0)"
      ]
     },
     "execution_count": 81,
     "metadata": {},
     "output_type": "execute_result"
    }
   ],
   "source": [
    "## t-test in statsmodels.api\n",
    "smf.stats.ttest_ind(x1 = df2[df['species'] == 'setosa']['sepal_length'],\n",
    "                    x2 = df2[df['species'] == 'versicolor']['sepal_length'],\n",
    "                   alternative=\"two-sided\")"
   ]
  },
  {
   "cell_type": "code",
   "execution_count": 82,
   "id": "174b4fa3",
   "metadata": {},
   "outputs": [
    {
     "name": "stderr",
     "output_type": "stream",
     "text": [
      "/anaconda3/lib/python3.7/site-packages/ipykernel_launcher.py:3: UserWarning: Boolean Series key will be reindexed to match DataFrame index.\n",
      "  This is separate from the ipykernel package so we can avoid doing imports until\n",
      "/anaconda3/lib/python3.7/site-packages/ipykernel_launcher.py:4: UserWarning: Boolean Series key will be reindexed to match DataFrame index.\n",
      "  after removing the cwd from sys.path.\n"
     ]
    },
    {
     "data": {
      "text/plain": [
       "Ttest_indResult(statistic=-10.52098626754911, pvalue=8.985235037487079e-18)"
      ]
     },
     "execution_count": 82,
     "metadata": {},
     "output_type": "execute_result"
    }
   ],
   "source": [
    "## t-test in scipy\n",
    "stats.ttest_ind(a = df2[df['species'] == 'setosa']['sepal_length'],\n",
    "                b = df2[df['species'] == 'versicolor']['sepal_length'],\n",
    "                alternative=\"two-sided\")"
   ]
  },
  {
   "cell_type": "markdown",
   "id": "e6704b3e",
   "metadata": {},
   "source": [
    "### Both of these outputs are not really helpful -- they leave a lot to be desired. They don't tell us anything more than the test statistic, p-value, and degrees of freedom. \n",
    "\n",
    "### We can't really see the information we'd like about the two groups. Instead, we can use the `researchpy` library."
   ]
  },
  {
   "cell_type": "code",
   "execution_count": 83,
   "id": "1de1fa67",
   "metadata": {},
   "outputs": [
    {
     "name": "stderr",
     "output_type": "stream",
     "text": [
      "/anaconda3/lib/python3.7/site-packages/ipykernel_launcher.py:3: UserWarning: Boolean Series key will be reindexed to match DataFrame index.\n",
      "  This is separate from the ipykernel package so we can avoid doing imports until\n",
      "/anaconda3/lib/python3.7/site-packages/ipykernel_launcher.py:4: UserWarning: Boolean Series key will be reindexed to match DataFrame index.\n",
      "  after removing the cwd from sys.path.\n"
     ]
    },
    {
     "data": {
      "text/plain": [
       "(       Variable      N   Mean        SD        SE  95% Conf.  Interval\n",
       " 0  sepal_length   50.0  5.006  0.352490  0.049850   4.905824  5.106176\n",
       " 1  sepal_length   50.0  5.936  0.516171  0.072998   5.789306  6.082694\n",
       " 2      combined  100.0  5.471  0.641698  0.064170   5.343673  5.598327,\n",
       "                             Independent t-test  results\n",
       " 0  Difference (sepal_length - sepal_length) =   -0.9300\n",
       " 1                        Degrees of freedom =   98.0000\n",
       " 2                                         t =  -10.5210\n",
       " 3                     Two side test p value =    0.0000\n",
       " 4                    Difference < 0 p value =    0.0000\n",
       " 5                    Difference > 0 p value =    1.0000\n",
       " 6                                 Cohen's d =   -2.1042\n",
       " 7                                 Hedge's g =   -2.0881\n",
       " 8                             Glass's delta =   -2.6384\n",
       " 9                               Pearson's r =    0.7283)"
      ]
     },
     "execution_count": 83,
     "metadata": {},
     "output_type": "execute_result"
    }
   ],
   "source": [
    "## t-test in reserachpy\n",
    "rp.ttest(group1 = df2[df['species'] == 'setosa']['sepal_length'],\n",
    "         group2 = df2[df['species'] == 'versicolor']['sepal_length'])"
   ]
  },
  {
   "cell_type": "markdown",
   "id": "abf148e4",
   "metadata": {},
   "source": [
    "**This output is more informative. We can see the summary stats for both groups at the top. the t-test results follow below. We see the observed difference, versicolor has a sepal length 0.93 (5.006 - 5.936) longer that setosa, on average. We also get the degrees of freedom, t-statistic, and p-value, along with several measures of effect size.**\n",
    "\n",
    "**Now let's see what happens when we build a linear regression model with the same, two-group, data.**\n"
   ]
  },
  {
   "cell_type": "markdown",
   "id": "2c7298e1",
   "metadata": {},
   "source": [
    "# Linear Regression"
   ]
  },
  {
   "cell_type": "code",
   "execution_count": 84,
   "id": "7a296d96",
   "metadata": {},
   "outputs": [],
   "source": [
    "## Linear model to compare results with t-test (convert the species types of dummy variables)\n",
    "X = df2[['species']]\n",
    "X = pd.get_dummies(X['species'], drop_first = True)\n",
    "\n",
    "y = df2[['sepal_length']]"
   ]
  },
  {
   "cell_type": "code",
   "execution_count": 85,
   "id": "0be1d5ec",
   "metadata": {},
   "outputs": [
    {
     "name": "stderr",
     "output_type": "stream",
     "text": [
      "/anaconda3/lib/python3.7/site-packages/statsmodels/tsa/tsatools.py:142: FutureWarning: In a future version of pandas all arguments of concat except for the argument 'objs' will be keyword-only\n",
      "  x = pd.concat(x[::order], 1)\n"
     ]
    },
    {
     "data": {
      "text/html": [
       "<table class=\"simpletable\">\n",
       "<caption>OLS Regression Results</caption>\n",
       "<tr>\n",
       "  <th>Dep. Variable:</th>      <td>sepal_length</td>   <th>  R-squared:         </th> <td>   0.530</td>\n",
       "</tr>\n",
       "<tr>\n",
       "  <th>Model:</th>                   <td>OLS</td>       <th>  Adj. R-squared:    </th> <td>   0.526</td>\n",
       "</tr>\n",
       "<tr>\n",
       "  <th>Method:</th>             <td>Least Squares</td>  <th>  F-statistic:       </th> <td>   110.7</td>\n",
       "</tr>\n",
       "<tr>\n",
       "  <th>Date:</th>             <td>Sun, 15 May 2022</td> <th>  Prob (F-statistic):</th> <td>8.99e-18</td>\n",
       "</tr>\n",
       "<tr>\n",
       "  <th>Time:</th>                 <td>16:24:27</td>     <th>  Log-Likelihood:    </th> <td> -59.233</td>\n",
       "</tr>\n",
       "<tr>\n",
       "  <th>No. Observations:</th>      <td>   100</td>      <th>  AIC:               </th> <td>   122.5</td>\n",
       "</tr>\n",
       "<tr>\n",
       "  <th>Df Residuals:</th>          <td>    98</td>      <th>  BIC:               </th> <td>   127.7</td>\n",
       "</tr>\n",
       "<tr>\n",
       "  <th>Df Model:</th>              <td>     1</td>      <th>                     </th>     <td> </td>   \n",
       "</tr>\n",
       "<tr>\n",
       "  <th>Covariance Type:</th>      <td>nonrobust</td>    <th>                     </th>     <td> </td>   \n",
       "</tr>\n",
       "</table>\n",
       "<table class=\"simpletable\">\n",
       "<tr>\n",
       "       <td></td>         <th>coef</th>     <th>std err</th>      <th>t</th>      <th>P>|t|</th>  <th>[0.025</th>    <th>0.975]</th>  \n",
       "</tr>\n",
       "<tr>\n",
       "  <th>const</th>      <td>    5.0060</td> <td>    0.063</td> <td>   80.090</td> <td> 0.000</td> <td>    4.882</td> <td>    5.130</td>\n",
       "</tr>\n",
       "<tr>\n",
       "  <th>versicolor</th> <td>    0.9300</td> <td>    0.088</td> <td>   10.521</td> <td> 0.000</td> <td>    0.755</td> <td>    1.105</td>\n",
       "</tr>\n",
       "</table>\n",
       "<table class=\"simpletable\">\n",
       "<tr>\n",
       "  <th>Omnibus:</th>       <td> 0.289</td> <th>  Durbin-Watson:     </th> <td>   1.762</td>\n",
       "</tr>\n",
       "<tr>\n",
       "  <th>Prob(Omnibus):</th> <td> 0.866</td> <th>  Jarque-Bera (JB):  </th> <td>   0.425</td>\n",
       "</tr>\n",
       "<tr>\n",
       "  <th>Skew:</th>          <td> 0.111</td> <th>  Prob(JB):          </th> <td>   0.809</td>\n",
       "</tr>\n",
       "<tr>\n",
       "  <th>Kurtosis:</th>      <td> 2.770</td> <th>  Cond. No.          </th> <td>    2.62</td>\n",
       "</tr>\n",
       "</table><br/><br/>Notes:<br/>[1] Standard Errors assume that the covariance matrix of the errors is correctly specified."
      ],
      "text/plain": [
       "<class 'statsmodels.iolib.summary.Summary'>\n",
       "\"\"\"\n",
       "                            OLS Regression Results                            \n",
       "==============================================================================\n",
       "Dep. Variable:           sepal_length   R-squared:                       0.530\n",
       "Model:                            OLS   Adj. R-squared:                  0.526\n",
       "Method:                 Least Squares   F-statistic:                     110.7\n",
       "Date:                Sun, 15 May 2022   Prob (F-statistic):           8.99e-18\n",
       "Time:                        16:24:27   Log-Likelihood:                -59.233\n",
       "No. Observations:                 100   AIC:                             122.5\n",
       "Df Residuals:                      98   BIC:                             127.7\n",
       "Df Model:                           1                                         \n",
       "Covariance Type:            nonrobust                                         \n",
       "==============================================================================\n",
       "                 coef    std err          t      P>|t|      [0.025      0.975]\n",
       "------------------------------------------------------------------------------\n",
       "const          5.0060      0.063     80.090      0.000       4.882       5.130\n",
       "versicolor     0.9300      0.088     10.521      0.000       0.755       1.105\n",
       "==============================================================================\n",
       "Omnibus:                        0.289   Durbin-Watson:                   1.762\n",
       "Prob(Omnibus):                  0.866   Jarque-Bera (JB):                0.425\n",
       "Skew:                           0.111   Prob(JB):                        0.809\n",
       "Kurtosis:                       2.770   Cond. No.                         2.62\n",
       "==============================================================================\n",
       "\n",
       "Notes:\n",
       "[1] Standard Errors assume that the covariance matrix of the errors is correctly specified.\n",
       "\"\"\""
      ]
     },
     "execution_count": 85,
     "metadata": {},
     "output_type": "execute_result"
    }
   ],
   "source": [
    "## add an intercept constant, since it isn't done automatically\n",
    "X = smf.add_constant(X)\n",
    "\n",
    "# Build regression model\n",
    "fit_lm = smf.OLS(y, X).fit()\n",
    "\n",
    "# Get model output\n",
    "\n",
    "fit_lm.summary()"
   ]
  },
  {
   "cell_type": "markdown",
   "id": "d4a89ec7",
   "metadata": {},
   "source": [
    "### Notes:\n",
    "\n",
    "* Notice that the slope coefficient for `versicolor` is 0.93, indicating it's `sepal_length` is, on average, 0.93 greater than the `setosa` `sepal_length`. This is the same result we obtained with our t-test above.\n",
    "\n",
    "\n",
    "* The intercept coefficient is 5.006, which means that when `versicolor` is set to `0` in the model, `0 * 0.93 = 0`, all we are left with is the intercept, which is the mean value for `setosa` `sepal_length`, the same as we saw in our t-test."
   ]
  },
  {
   "cell_type": "code",
   "execution_count": 133,
   "id": "de1091b8",
   "metadata": {},
   "outputs": [
    {
     "name": "stderr",
     "output_type": "stream",
     "text": [
      "/anaconda3/lib/python3.7/site-packages/ipykernel_launcher.py:2: SettingWithCopyWarning: \n",
      "A value is trying to be set on a copy of a slice from a DataFrame.\n",
      "Try using .loc[row_indexer,col_indexer] = value instead\n",
      "\n",
      "See the caveats in the documentation: https://pandas.pydata.org/pandas-docs/stable/user_guide/indexing.html#returning-a-view-versus-a-copy\n",
      "  \n"
     ]
    },
    {
     "data": {
      "text/html": [
       "<div>\n",
       "<style scoped>\n",
       "    .dataframe tbody tr th:only-of-type {\n",
       "        vertical-align: middle;\n",
       "    }\n",
       "\n",
       "    .dataframe tbody tr th {\n",
       "        vertical-align: top;\n",
       "    }\n",
       "\n",
       "    .dataframe thead th {\n",
       "        text-align: right;\n",
       "    }\n",
       "</style>\n",
       "<table border=\"1\" class=\"dataframe\">\n",
       "  <thead>\n",
       "    <tr style=\"text-align: right;\">\n",
       "      <th></th>\n",
       "      <th>sepal_length</th>\n",
       "      <th>sepal_width</th>\n",
       "      <th>petal_length</th>\n",
       "      <th>petal_width</th>\n",
       "      <th>target</th>\n",
       "      <th>species</th>\n",
       "      <th>preds</th>\n",
       "      <th>group_avg</th>\n",
       "    </tr>\n",
       "  </thead>\n",
       "  <tbody>\n",
       "    <tr>\n",
       "      <th>0</th>\n",
       "      <td>5.1</td>\n",
       "      <td>3.5</td>\n",
       "      <td>1.4</td>\n",
       "      <td>0.2</td>\n",
       "      <td>0</td>\n",
       "      <td>setosa</td>\n",
       "      <td>5.006</td>\n",
       "      <td>5.006</td>\n",
       "    </tr>\n",
       "    <tr>\n",
       "      <th>1</th>\n",
       "      <td>4.9</td>\n",
       "      <td>3.0</td>\n",
       "      <td>1.4</td>\n",
       "      <td>0.2</td>\n",
       "      <td>0</td>\n",
       "      <td>setosa</td>\n",
       "      <td>5.006</td>\n",
       "      <td>5.006</td>\n",
       "    </tr>\n",
       "    <tr>\n",
       "      <th>2</th>\n",
       "      <td>4.7</td>\n",
       "      <td>3.2</td>\n",
       "      <td>1.3</td>\n",
       "      <td>0.2</td>\n",
       "      <td>0</td>\n",
       "      <td>setosa</td>\n",
       "      <td>5.006</td>\n",
       "      <td>5.006</td>\n",
       "    </tr>\n",
       "    <tr>\n",
       "      <th>3</th>\n",
       "      <td>4.6</td>\n",
       "      <td>3.1</td>\n",
       "      <td>1.5</td>\n",
       "      <td>0.2</td>\n",
       "      <td>0</td>\n",
       "      <td>setosa</td>\n",
       "      <td>5.006</td>\n",
       "      <td>5.006</td>\n",
       "    </tr>\n",
       "    <tr>\n",
       "      <th>4</th>\n",
       "      <td>5.0</td>\n",
       "      <td>3.6</td>\n",
       "      <td>1.4</td>\n",
       "      <td>0.2</td>\n",
       "      <td>0</td>\n",
       "      <td>setosa</td>\n",
       "      <td>5.006</td>\n",
       "      <td>5.006</td>\n",
       "    </tr>\n",
       "  </tbody>\n",
       "</table>\n",
       "</div>"
      ],
      "text/plain": [
       "   sepal_length  sepal_width  petal_length  petal_width  target species  \\\n",
       "0           5.1          3.5           1.4          0.2       0  setosa   \n",
       "1           4.9          3.0           1.4          0.2       0  setosa   \n",
       "2           4.7          3.2           1.3          0.2       0  setosa   \n",
       "3           4.6          3.1           1.5          0.2       0  setosa   \n",
       "4           5.0          3.6           1.4          0.2       0  setosa   \n",
       "\n",
       "   preds  group_avg  \n",
       "0  5.006      5.006  \n",
       "1  5.006      5.006  \n",
       "2  5.006      5.006  \n",
       "3  5.006      5.006  \n",
       "4  5.006      5.006  "
      ]
     },
     "execution_count": 133,
     "metadata": {},
     "output_type": "execute_result"
    }
   ],
   "source": [
    "## Add the predictions back to the data set\n",
    "df2['preds'] = fit_lm.predict(X)\n",
    "df2.head()"
   ]
  },
  {
   "cell_type": "code",
   "execution_count": 134,
   "id": "484533bf",
   "metadata": {},
   "outputs": [
    {
     "data": {
      "text/plain": [
       "0    0.094\n",
       "1   -0.106\n",
       "2   -0.306\n",
       "3   -0.406\n",
       "4   -0.006\n",
       "dtype: float64"
      ]
     },
     "execution_count": 134,
     "metadata": {},
     "output_type": "execute_result"
    }
   ],
   "source": [
    "## Calculate the residual\n",
    "resid = df2['sepal_length'] - df2['preds']\n",
    "resid.head()"
   ]
  },
  {
   "cell_type": "code",
   "execution_count": 135,
   "id": "b94128c1",
   "metadata": {},
   "outputs": [
    {
     "data": {
      "text/plain": [
       "<matplotlib.lines.Line2D at 0x12ebeeb10>"
      ]
     },
     "execution_count": 135,
     "metadata": {},
     "output_type": "execute_result"
    },
    {
     "data": {
      "image/png": "[encoded data removed]",
      "text/plain": [
       "<Figure size 432x288 with 1 Axes>"
      ]
     },
     "metadata": {
      "needs_background": "light"
     },
     "output_type": "display_data"
    }
   ],
   "source": [
    "## plot the residuals\n",
    "sns.kdeplot(resid,shade = True)\n",
    "plt.axvline(x = 0,linewidth=4, linestyle = '--', color='r')"
   ]
  },
  {
   "cell_type": "code",
   "execution_count": 143,
   "id": "5302bb82",
   "metadata": {},
   "outputs": [
    {
     "data": {
      "text/plain": [
       "0.1914"
      ]
     },
     "execution_count": 143,
     "metadata": {},
     "output_type": "execute_result"
    }
   ],
   "source": [
    "## Mean Squared Error\n",
    "sqd_error = resid**2\n",
    "mse = round(sqd_error.mean(), 4)\n",
    "mse"
   ]
  },
  {
   "cell_type": "markdown",
   "id": "831bc75d",
   "metadata": {},
   "source": [
    "* Above we added the predictions into the model and then calculated and plotted the residual and then calculated the mean squared error. The question that was asked was, *But where are the residuals for the t-test?*. Since the t-test is just linear regression with a categorical feature that has two levels all that is being predicted from that type of model is the group averages in `sepal_length`. Therefore, we can simply use the group average for the respective `species`, calculate the residual and obtain the same result."
   ]
  },
  {
   "cell_type": "code",
   "execution_count": 137,
   "id": "d34727a8",
   "metadata": {},
   "outputs": [
    {
     "name": "stderr",
     "output_type": "stream",
     "text": [
      "/anaconda3/lib/python3.7/site-packages/ipykernel_launcher.py:3: SettingWithCopyWarning: \n",
      "A value is trying to be set on a copy of a slice from a DataFrame.\n",
      "Try using .loc[row_indexer,col_indexer] = value instead\n",
      "\n",
      "See the caveats in the documentation: https://pandas.pydata.org/pandas-docs/stable/user_guide/indexing.html#returning-a-view-versus-a-copy\n",
      "  This is separate from the ipykernel package so we can avoid doing imports until\n"
     ]
    },
    {
     "data": {
      "text/html": [
       "<div>\n",
       "<style scoped>\n",
       "    .dataframe tbody tr th:only-of-type {\n",
       "        vertical-align: middle;\n",
       "    }\n",
       "\n",
       "    .dataframe tbody tr th {\n",
       "        vertical-align: top;\n",
       "    }\n",
       "\n",
       "    .dataframe thead th {\n",
       "        text-align: right;\n",
       "    }\n",
       "</style>\n",
       "<table border=\"1\" class=\"dataframe\">\n",
       "  <thead>\n",
       "    <tr style=\"text-align: right;\">\n",
       "      <th></th>\n",
       "      <th>sepal_length</th>\n",
       "      <th>sepal_width</th>\n",
       "      <th>petal_length</th>\n",
       "      <th>petal_width</th>\n",
       "      <th>target</th>\n",
       "      <th>species</th>\n",
       "      <th>preds</th>\n",
       "      <th>group_avg</th>\n",
       "    </tr>\n",
       "  </thead>\n",
       "  <tbody>\n",
       "    <tr>\n",
       "      <th>0</th>\n",
       "      <td>5.1</td>\n",
       "      <td>3.5</td>\n",
       "      <td>1.4</td>\n",
       "      <td>0.2</td>\n",
       "      <td>0</td>\n",
       "      <td>setosa</td>\n",
       "      <td>5.006</td>\n",
       "      <td>5.006</td>\n",
       "    </tr>\n",
       "    <tr>\n",
       "      <th>1</th>\n",
       "      <td>4.9</td>\n",
       "      <td>3.0</td>\n",
       "      <td>1.4</td>\n",
       "      <td>0.2</td>\n",
       "      <td>0</td>\n",
       "      <td>setosa</td>\n",
       "      <td>5.006</td>\n",
       "      <td>5.006</td>\n",
       "    </tr>\n",
       "    <tr>\n",
       "      <th>2</th>\n",
       "      <td>4.7</td>\n",
       "      <td>3.2</td>\n",
       "      <td>1.3</td>\n",
       "      <td>0.2</td>\n",
       "      <td>0</td>\n",
       "      <td>setosa</td>\n",
       "      <td>5.006</td>\n",
       "      <td>5.006</td>\n",
       "    </tr>\n",
       "    <tr>\n",
       "      <th>3</th>\n",
       "      <td>4.6</td>\n",
       "      <td>3.1</td>\n",
       "      <td>1.5</td>\n",
       "      <td>0.2</td>\n",
       "      <td>0</td>\n",
       "      <td>setosa</td>\n",
       "      <td>5.006</td>\n",
       "      <td>5.006</td>\n",
       "    </tr>\n",
       "    <tr>\n",
       "      <th>4</th>\n",
       "      <td>5.0</td>\n",
       "      <td>3.6</td>\n",
       "      <td>1.4</td>\n",
       "      <td>0.2</td>\n",
       "      <td>0</td>\n",
       "      <td>setosa</td>\n",
       "      <td>5.006</td>\n",
       "      <td>5.006</td>\n",
       "    </tr>\n",
       "  </tbody>\n",
       "</table>\n",
       "</div>"
      ],
      "text/plain": [
       "   sepal_length  sepal_width  petal_length  petal_width  target species  \\\n",
       "0           5.1          3.5           1.4          0.2       0  setosa   \n",
       "1           4.9          3.0           1.4          0.2       0  setosa   \n",
       "2           4.7          3.2           1.3          0.2       0  setosa   \n",
       "3           4.6          3.1           1.5          0.2       0  setosa   \n",
       "4           5.0          3.6           1.4          0.2       0  setosa   \n",
       "\n",
       "   preds  group_avg  \n",
       "0  5.006      5.006  \n",
       "1  5.006      5.006  \n",
       "2  5.006      5.006  \n",
       "3  5.006      5.006  \n",
       "4  5.006      5.006  "
      ]
     },
     "execution_count": 137,
     "metadata": {},
     "output_type": "execute_result"
    }
   ],
   "source": [
    "## Create a column that represents the group average\n",
    "\n",
    "df2['group_avg'] = df2.groupby('species').sepal_length.transform('mean')\n",
    "df2.head()"
   ]
  },
  {
   "cell_type": "code",
   "execution_count": 138,
   "id": "31a5770f",
   "metadata": {},
   "outputs": [
    {
     "data": {
      "text/plain": [
       "0    0.094\n",
       "1   -0.106\n",
       "2   -0.306\n",
       "3   -0.406\n",
       "4   -0.006\n",
       "dtype: float64"
      ]
     },
     "execution_count": 138,
     "metadata": {},
     "output_type": "execute_result"
    }
   ],
   "source": [
    "## Calculate the residuals\n",
    "\n",
    "resid2 = df2['sepal_length'] - df2['group_avg']\n",
    "resid2.head()"
   ]
  },
  {
   "cell_type": "code",
   "execution_count": 139,
   "id": "a950e00c",
   "metadata": {},
   "outputs": [
    {
     "data": {
      "text/plain": [
       "<matplotlib.lines.Line2D at 0x12e1eefd0>"
      ]
     },
     "execution_count": 139,
     "metadata": {},
     "output_type": "execute_result"
    },
    {
     "data": {
      "image/png": "[encoded data removed]",
      "text/plain": [
       "<Figure size 432x288 with 1 Axes>"
      ]
     },
     "metadata": {
      "needs_background": "light"
     },
     "output_type": "display_data"
    }
   ],
   "source": [
    "## plot the residuals\n",
    "sns.kdeplot(resid2, shade = True)\n",
    "plt.axvline(x = 0,linewidth=4, linestyle = '--', color='r')"
   ]
  },
  {
   "cell_type": "code",
   "execution_count": 142,
   "id": "7ad23310",
   "metadata": {},
   "outputs": [
    {
     "data": {
      "text/plain": [
       "0.1914"
      ]
     },
     "execution_count": 142,
     "metadata": {},
     "output_type": "execute_result"
    }
   ],
   "source": [
    "## Mean Squared Error\n",
    "sqd_error2 = resid2**2\n",
    "mse2 = round(sqd_error2.mean(), 4)\n",
    "mse2"
   ]
  },
  {
   "cell_type": "code",
   "execution_count": 145,
   "id": "97350310",
   "metadata": {},
   "outputs": [
    {
     "data": {
      "text/plain": [
       "True"
      ]
     },
     "execution_count": 145,
     "metadata": {},
     "output_type": "execute_result"
    }
   ],
   "source": [
    "## Same Result\n",
    "\n",
    "mse == mse2"
   ]
  }
 ],
 "metadata": {
  "kernelspec": {
   "display_name": "Python 3 (ipykernel)",
   "language": "python",
   "name": "python3"
  },
  "language_info": {
   "codemirror_mode": {
    "name": "ipython",
    "version": 3
   },
   "file_extension": ".py",
   "mimetype": "text/x-python",
   "name": "python",
   "nbconvert_exporter": "python",
   "pygments_lexer": "ipython3",
   "version": "3.7.7"
  }
 },
 "nbformat": 4,
 "nbformat_minor": 5
}
