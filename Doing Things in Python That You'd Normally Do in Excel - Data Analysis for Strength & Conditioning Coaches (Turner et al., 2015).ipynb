{
 "cells": [
  {
   "cell_type": "markdown",
   "metadata": {},
   "source": [
    "#### Original Paper\n",
    "\n",
    "Turner et al. (2015). **Data Analysis for Strength and conditioning coaches: Using excel to analyze reliability, differences, and relationships.** *Strength Cond J*; 37(1): 76-83.\n",
    "\n",
    "https://www.researchgate.net/publication/272507171_Data_Analysis_for_Strength_and_Conditioning_Coaches_Using_Excel_to_Analyze_Reliability_Differences_and_Relationships\n",
    "\n",
    "#### Blog Post\n",
    "\n",
    "http://optimumsportsperformance.com/blog/doing-things-in-python-that-youd-normally-do-in-excel-data-analysis-for-strength-conditioning-coaches-turner-et-al-2015/"
   ]
  },
  {
   "cell_type": "markdown",
   "metadata": {},
   "source": [
    "## Import Libraries"
   ]
  },
  {
   "cell_type": "code",
   "execution_count": 2,
   "metadata": {},
   "outputs": [],
   "source": [
    "import pandas as pd\n",
    "import numpy as np\n",
    "import math"
   ]
  },
  {
   "cell_type": "markdown",
   "metadata": {},
   "source": [
    "## Create Data from Paper"
   ]
  },
  {
   "cell_type": "code",
   "execution_count": 34,
   "metadata": {},
   "outputs": [],
   "source": [
    "dat = pd.DataFrame()\n",
    "dat['athlete'] = np.arange(start = 1, stop = 25, step = 1)\n",
    "dat['test_session'] = np.repeat(a = 1, repeats = 24)\n",
    "dat['cmj_1'] = [38.1,34.1,42.8,50.4,37,42.1,44.5,37.9,43.6,35.4,45.3,46.6,30.2,50.8,41,43.7,43.6,43.6,51.6,27.8,29,29,30.3,34.9]\n",
    "dat['cmj_2'] = [43.6,35.7,42.2,52.2,36.1,40.7,42.3,33.3,44.9,40.1,44.4,47.7,31,51.2,46.7,40.4,44.1,44.8,50.4,28.5,28.3,27.7,35.7,36.1]\n",
    "dat['cmj_3'] = [47.7,36,41.9,52.2,36.9,45.1,45.2,39.6,37.4,39.5,43.9,47.7,31.5,53.7,36.4,43,48.9,43.5,61.6,28.7,30.9,26.3,34.2,35.4]"
   ]
  },
  {
   "cell_type": "code",
   "execution_count": 35,
   "metadata": {},
   "outputs": [
    {
     "data": {
      "text/html": [
       "<div>\n",
       "<style scoped>\n",
       "    .dataframe tbody tr th:only-of-type {\n",
       "        vertical-align: middle;\n",
       "    }\n",
       "\n",
       "    .dataframe tbody tr th {\n",
       "        vertical-align: top;\n",
       "    }\n",
       "\n",
       "    .dataframe thead th {\n",
       "        text-align: right;\n",
       "    }\n",
       "</style>\n",
       "<table border=\"1\" class=\"dataframe\">\n",
       "  <thead>\n",
       "    <tr style=\"text-align: right;\">\n",
       "      <th></th>\n",
       "      <th>athlete</th>\n",
       "      <th>test_session</th>\n",
       "      <th>cmj_1</th>\n",
       "      <th>cmj_2</th>\n",
       "      <th>cmj_3</th>\n",
       "    </tr>\n",
       "  </thead>\n",
       "  <tbody>\n",
       "    <tr>\n",
       "      <th>0</th>\n",
       "      <td>1</td>\n",
       "      <td>1</td>\n",
       "      <td>38.1</td>\n",
       "      <td>43.6</td>\n",
       "      <td>47.7</td>\n",
       "    </tr>\n",
       "    <tr>\n",
       "      <th>1</th>\n",
       "      <td>2</td>\n",
       "      <td>1</td>\n",
       "      <td>34.1</td>\n",
       "      <td>35.7</td>\n",
       "      <td>36.0</td>\n",
       "    </tr>\n",
       "    <tr>\n",
       "      <th>2</th>\n",
       "      <td>3</td>\n",
       "      <td>1</td>\n",
       "      <td>42.8</td>\n",
       "      <td>42.2</td>\n",
       "      <td>41.9</td>\n",
       "    </tr>\n",
       "    <tr>\n",
       "      <th>3</th>\n",
       "      <td>4</td>\n",
       "      <td>1</td>\n",
       "      <td>50.4</td>\n",
       "      <td>52.2</td>\n",
       "      <td>52.2</td>\n",
       "    </tr>\n",
       "    <tr>\n",
       "      <th>4</th>\n",
       "      <td>5</td>\n",
       "      <td>1</td>\n",
       "      <td>37.0</td>\n",
       "      <td>36.1</td>\n",
       "      <td>36.9</td>\n",
       "    </tr>\n",
       "    <tr>\n",
       "      <th>5</th>\n",
       "      <td>6</td>\n",
       "      <td>1</td>\n",
       "      <td>42.1</td>\n",
       "      <td>40.7</td>\n",
       "      <td>45.1</td>\n",
       "    </tr>\n",
       "    <tr>\n",
       "      <th>6</th>\n",
       "      <td>7</td>\n",
       "      <td>1</td>\n",
       "      <td>44.5</td>\n",
       "      <td>42.3</td>\n",
       "      <td>45.2</td>\n",
       "    </tr>\n",
       "    <tr>\n",
       "      <th>7</th>\n",
       "      <td>8</td>\n",
       "      <td>1</td>\n",
       "      <td>37.9</td>\n",
       "      <td>33.3</td>\n",
       "      <td>39.6</td>\n",
       "    </tr>\n",
       "    <tr>\n",
       "      <th>8</th>\n",
       "      <td>9</td>\n",
       "      <td>1</td>\n",
       "      <td>43.6</td>\n",
       "      <td>44.9</td>\n",
       "      <td>37.4</td>\n",
       "    </tr>\n",
       "    <tr>\n",
       "      <th>9</th>\n",
       "      <td>10</td>\n",
       "      <td>1</td>\n",
       "      <td>35.4</td>\n",
       "      <td>40.1</td>\n",
       "      <td>39.5</td>\n",
       "    </tr>\n",
       "  </tbody>\n",
       "</table>\n",
       "</div>"
      ],
      "text/plain": [
       "   athlete  test_session  cmj_1  cmj_2  cmj_3\n",
       "0        1             1   38.1   43.6   47.7\n",
       "1        2             1   34.1   35.7   36.0\n",
       "2        3             1   42.8   42.2   41.9\n",
       "3        4             1   50.4   52.2   52.2\n",
       "4        5             1   37.0   36.1   36.9\n",
       "5        6             1   42.1   40.7   45.1\n",
       "6        7             1   44.5   42.3   45.2\n",
       "7        8             1   37.9   33.3   39.6\n",
       "8        9             1   43.6   44.9   37.4\n",
       "9       10             1   35.4   40.1   39.5"
      ]
     },
     "execution_count": 35,
     "metadata": {},
     "output_type": "execute_result"
    }
   ],
   "source": [
    "dat.head(10)"
   ]
  },
  {
   "cell_type": "markdown",
   "metadata": {},
   "source": [
    "## Explore Basic Features of the Data"
   ]
  },
  {
   "cell_type": "code",
   "execution_count": 22,
   "metadata": {},
   "outputs": [
    {
     "data": {
      "text/plain": [
       "pandas.core.frame.DataFrame"
      ]
     },
     "execution_count": 22,
     "metadata": {},
     "output_type": "execute_result"
    }
   ],
   "source": [
    "# Note that we created a pandas data frame\n",
    "\n",
    "type(dat)"
   ]
  },
  {
   "cell_type": "code",
   "execution_count": 23,
   "metadata": {},
   "outputs": [
    {
     "data": {
      "text/plain": [
       "24"
      ]
     },
     "execution_count": 23,
     "metadata": {},
     "output_type": "execute_result"
    }
   ],
   "source": [
    "# How many rows?\n",
    "\n",
    "len(dat)"
   ]
  },
  {
   "cell_type": "code",
   "execution_count": 24,
   "metadata": {},
   "outputs": [
    {
     "data": {
      "text/plain": [
       "(24, 5)"
      ]
     },
     "execution_count": 24,
     "metadata": {},
     "output_type": "execute_result"
    }
   ],
   "source": [
    "# Rows x Columns\n",
    "\n",
    "dat.shape"
   ]
  },
  {
   "cell_type": "code",
   "execution_count": 25,
   "metadata": {},
   "outputs": [
    {
     "data": {
      "text/plain": [
       "Index(['athlete', 'test_session', 'cmj_1', 'cmj_2', 'cmj_3'], dtype='object')"
      ]
     },
     "execution_count": 25,
     "metadata": {},
     "output_type": "execute_result"
    }
   ],
   "source": [
    "# Column names\n",
    "\n",
    "dat.columns"
   ]
  },
  {
   "cell_type": "markdown",
   "metadata": {},
   "source": [
    "## Get Mean & SD from Each CMJ Column"
   ]
  },
  {
   "cell_type": "markdown",
   "metadata": {},
   "source": [
    "**1) Define a function for calculating our summary stats with one line of code**\n",
    "\n",
    "**2) Confirm that the stats are the same as that which is reported in the paper**"
   ]
  },
  {
   "cell_type": "code",
   "execution_count": 26,
   "metadata": {},
   "outputs": [],
   "source": [
    "## function for summary stats\n",
    "\n",
    "def summary_stats(val):\n",
    "    \n",
    "    avg = val.mean()\n",
    "    sd = val.std()\n",
    "    \n",
    "    results = [[\"CMJ Avg\", round(avg, 1)], [\"CMJ SD\", round(sd, 1)]]\n",
    "    \n",
    "    return results"
   ]
  },
  {
   "cell_type": "code",
   "execution_count": 27,
   "metadata": {},
   "outputs": [
    {
     "data": {
      "text/plain": [
       "[['CMJ Avg', 39.7], ['CMJ SD', 7.2]]"
      ]
     },
     "execution_count": 27,
     "metadata": {},
     "output_type": "execute_result"
    }
   ],
   "source": [
    "# CMJ 1\n",
    "\n",
    "summary_stats(dat['cmj_1'])"
   ]
  },
  {
   "cell_type": "code",
   "execution_count": 28,
   "metadata": {},
   "outputs": [
    {
     "data": {
      "text/plain": [
       "[['CMJ Avg', 40.3], ['CMJ SD', 7.2]]"
      ]
     },
     "execution_count": 28,
     "metadata": {},
     "output_type": "execute_result"
    }
   ],
   "source": [
    "# CMJ 2\n",
    "\n",
    "summary_stats(dat['cmj_2'])"
   ]
  },
  {
   "cell_type": "code",
   "execution_count": 29,
   "metadata": {},
   "outputs": [
    {
     "data": {
      "text/plain": [
       "[['CMJ Avg', 41.1], ['CMJ SD', 8.4]]"
      ]
     },
     "execution_count": 29,
     "metadata": {},
     "output_type": "execute_result"
    }
   ],
   "source": [
    "# CMJ 3\n",
    "\n",
    "summary_stats(dat['cmj_3'])"
   ]
  },
  {
   "cell_type": "markdown",
   "metadata": {},
   "source": [
    "## Calculate Smallest Worthwhile Change (SWC) and Typical Error of Measurement (TEM)\n",
    "\n",
    "In the paper, Anthony Turner adds the values to each athlete within the same row, rather than creating a separate data frame for SWC and TEM. So we will structure the data in the same manner as he did."
   ]
  },
  {
   "cell_type": "code",
   "execution_count": 36,
   "metadata": {},
   "outputs": [
    {
     "data": {
      "text/html": [
       "<div>\n",
       "<style scoped>\n",
       "    .dataframe tbody tr th:only-of-type {\n",
       "        vertical-align: middle;\n",
       "    }\n",
       "\n",
       "    .dataframe tbody tr th {\n",
       "        vertical-align: top;\n",
       "    }\n",
       "\n",
       "    .dataframe thead th {\n",
       "        text-align: right;\n",
       "    }\n",
       "</style>\n",
       "<table border=\"1\" class=\"dataframe\">\n",
       "  <thead>\n",
       "    <tr style=\"text-align: right;\">\n",
       "      <th></th>\n",
       "      <th>athlete</th>\n",
       "      <th>test_session</th>\n",
       "      <th>cmj_1</th>\n",
       "      <th>cmj_2</th>\n",
       "      <th>cmj_3</th>\n",
       "      <th>best_cmj</th>\n",
       "    </tr>\n",
       "  </thead>\n",
       "  <tbody>\n",
       "    <tr>\n",
       "      <th>0</th>\n",
       "      <td>1</td>\n",
       "      <td>1</td>\n",
       "      <td>38.1</td>\n",
       "      <td>43.6</td>\n",
       "      <td>47.7</td>\n",
       "      <td>47.7</td>\n",
       "    </tr>\n",
       "    <tr>\n",
       "      <th>1</th>\n",
       "      <td>2</td>\n",
       "      <td>1</td>\n",
       "      <td>34.1</td>\n",
       "      <td>35.7</td>\n",
       "      <td>36.0</td>\n",
       "      <td>36.0</td>\n",
       "    </tr>\n",
       "    <tr>\n",
       "      <th>2</th>\n",
       "      <td>3</td>\n",
       "      <td>1</td>\n",
       "      <td>42.8</td>\n",
       "      <td>42.2</td>\n",
       "      <td>41.9</td>\n",
       "      <td>42.8</td>\n",
       "    </tr>\n",
       "    <tr>\n",
       "      <th>3</th>\n",
       "      <td>4</td>\n",
       "      <td>1</td>\n",
       "      <td>50.4</td>\n",
       "      <td>52.2</td>\n",
       "      <td>52.2</td>\n",
       "      <td>52.2</td>\n",
       "    </tr>\n",
       "    <tr>\n",
       "      <th>4</th>\n",
       "      <td>5</td>\n",
       "      <td>1</td>\n",
       "      <td>37.0</td>\n",
       "      <td>36.1</td>\n",
       "      <td>36.9</td>\n",
       "      <td>37.0</td>\n",
       "    </tr>\n",
       "  </tbody>\n",
       "</table>\n",
       "</div>"
      ],
      "text/plain": [
       "   athlete  test_session  cmj_1  cmj_2  cmj_3  best_cmj\n",
       "0        1             1   38.1   43.6   47.7      47.7\n",
       "1        2             1   34.1   35.7   36.0      36.0\n",
       "2        3             1   42.8   42.2   41.9      42.8\n",
       "3        4             1   50.4   52.2   52.2      52.2\n",
       "4        5             1   37.0   36.1   36.9      37.0"
      ]
     },
     "execution_count": 36,
     "metadata": {},
     "output_type": "execute_result"
    }
   ],
   "source": [
    "# First create a column to identify each athlete's max value across the 3 jumps\n",
    "# NOTE: specify that you are performing the max calculation across rows by indicating axis = 1\n",
    "\n",
    "dat['best_cmj'] = dat.iloc[:,2:5].max(axis = 1)\n",
    "dat.head()"
   ]
  },
  {
   "cell_type": "code",
   "execution_count": 40,
   "metadata": {},
   "outputs": [
    {
     "data": {
      "text/html": [
       "<div>\n",
       "<style scoped>\n",
       "    .dataframe tbody tr th:only-of-type {\n",
       "        vertical-align: middle;\n",
       "    }\n",
       "\n",
       "    .dataframe tbody tr th {\n",
       "        vertical-align: top;\n",
       "    }\n",
       "\n",
       "    .dataframe thead th {\n",
       "        text-align: right;\n",
       "    }\n",
       "</style>\n",
       "<table border=\"1\" class=\"dataframe\">\n",
       "  <thead>\n",
       "    <tr style=\"text-align: right;\">\n",
       "      <th></th>\n",
       "      <th>athlete</th>\n",
       "      <th>test_session</th>\n",
       "      <th>cmj_1</th>\n",
       "      <th>cmj_2</th>\n",
       "      <th>cmj_3</th>\n",
       "      <th>best_cmj</th>\n",
       "      <th>avg</th>\n",
       "      <th>sd</th>\n",
       "      <th>cv_pct</th>\n",
       "    </tr>\n",
       "  </thead>\n",
       "  <tbody>\n",
       "    <tr>\n",
       "      <th>0</th>\n",
       "      <td>1</td>\n",
       "      <td>1</td>\n",
       "      <td>38.1</td>\n",
       "      <td>43.6</td>\n",
       "      <td>47.7</td>\n",
       "      <td>47.7</td>\n",
       "      <td>43.1</td>\n",
       "      <td>4.8</td>\n",
       "      <td>0.1114</td>\n",
       "    </tr>\n",
       "    <tr>\n",
       "      <th>1</th>\n",
       "      <td>2</td>\n",
       "      <td>1</td>\n",
       "      <td>34.1</td>\n",
       "      <td>35.7</td>\n",
       "      <td>36.0</td>\n",
       "      <td>36.0</td>\n",
       "      <td>35.3</td>\n",
       "      <td>1.0</td>\n",
       "      <td>0.0283</td>\n",
       "    </tr>\n",
       "    <tr>\n",
       "      <th>2</th>\n",
       "      <td>3</td>\n",
       "      <td>1</td>\n",
       "      <td>42.8</td>\n",
       "      <td>42.2</td>\n",
       "      <td>41.9</td>\n",
       "      <td>42.8</td>\n",
       "      <td>42.3</td>\n",
       "      <td>0.5</td>\n",
       "      <td>0.0118</td>\n",
       "    </tr>\n",
       "    <tr>\n",
       "      <th>3</th>\n",
       "      <td>4</td>\n",
       "      <td>1</td>\n",
       "      <td>50.4</td>\n",
       "      <td>52.2</td>\n",
       "      <td>52.2</td>\n",
       "      <td>52.2</td>\n",
       "      <td>51.6</td>\n",
       "      <td>1.0</td>\n",
       "      <td>0.0194</td>\n",
       "    </tr>\n",
       "    <tr>\n",
       "      <th>4</th>\n",
       "      <td>5</td>\n",
       "      <td>1</td>\n",
       "      <td>37.0</td>\n",
       "      <td>36.1</td>\n",
       "      <td>36.9</td>\n",
       "      <td>37.0</td>\n",
       "      <td>36.7</td>\n",
       "      <td>0.5</td>\n",
       "      <td>0.0136</td>\n",
       "    </tr>\n",
       "  </tbody>\n",
       "</table>\n",
       "</div>"
      ],
      "text/plain": [
       "   athlete  test_session  cmj_1  cmj_2  cmj_3  best_cmj   avg   sd  cv_pct\n",
       "0        1             1   38.1   43.6   47.7      47.7  43.1  4.8  0.1114\n",
       "1        2             1   34.1   35.7   36.0      36.0  35.3  1.0  0.0283\n",
       "2        3             1   42.8   42.2   41.9      42.8  42.3  0.5  0.0118\n",
       "3        4             1   50.4   52.2   52.2      52.2  51.6  1.0  0.0194\n",
       "4        5             1   37.0   36.1   36.9      37.0  36.7  0.5  0.0136"
      ]
     },
     "execution_count": 40,
     "metadata": {},
     "output_type": "execute_result"
    }
   ],
   "source": [
    "# Calculate a column for each athletes Average, SD, & CV% of CMJ\n",
    "\n",
    "dat['avg'] = round(dat.loc[:,['cmj_1', 'cmj_2', 'cmj_3']].mean(axis = 1), 1)\n",
    "dat['sd'] = round(dat.loc[:,['cmj_1', 'cmj_2', 'cmj_3']].std(axis = 1), 1)\n",
    "dat['cv_pct'] = round(dat['sd'] / dat['avg'], 4)\n",
    "\n",
    "dat.head()"
   ]
  },
  {
   "cell_type": "code",
   "execution_count": 38,
   "metadata": {},
   "outputs": [
    {
     "data": {
      "text/plain": [
       "1.63"
      ]
     },
     "execution_count": 38,
     "metadata": {},
     "output_type": "execute_result"
    }
   ],
   "source": [
    "## Calculate SWC\n",
    "# Turner uses 0.2 * Btw Subject Standard Deviation of their best CMJ (per Hopkins)\n",
    "\n",
    "effect_of_interest = 0.2\n",
    "swc = round(effect_of_interest * dat['best_cmj'].std(), 2)\n",
    "swc"
   ]
  },
  {
   "cell_type": "code",
   "execution_count": 39,
   "metadata": {},
   "outputs": [
    {
     "data": {
      "text/plain": [
       "0.049"
      ]
     },
     "execution_count": 39,
     "metadata": {},
     "output_type": "execute_result"
    }
   ],
   "source": [
    "## calculate typical error measurement as a CV%\n",
    "# Turner takes the average of all of the athletes CV% across their 3 jumps\n",
    "\n",
    "tem_cv = round(dat['cv_pct'].mean(), 3)\n",
    "tem_cv"
   ]
  },
  {
   "cell_type": "markdown",
   "metadata": {},
   "source": [
    "## Add the SWC and TEM to each row for each athlete to specify training targets"
   ]
  },
  {
   "cell_type": "code",
   "execution_count": 41,
   "metadata": {},
   "outputs": [
    {
     "data": {
      "text/html": [
       "<div>\n",
       "<style scoped>\n",
       "    .dataframe tbody tr th:only-of-type {\n",
       "        vertical-align: middle;\n",
       "    }\n",
       "\n",
       "    .dataframe tbody tr th {\n",
       "        vertical-align: top;\n",
       "    }\n",
       "\n",
       "    .dataframe thead th {\n",
       "        text-align: right;\n",
       "    }\n",
       "</style>\n",
       "<table border=\"1\" class=\"dataframe\">\n",
       "  <thead>\n",
       "    <tr style=\"text-align: right;\">\n",
       "      <th></th>\n",
       "      <th>athlete</th>\n",
       "      <th>test_session</th>\n",
       "      <th>cmj_1</th>\n",
       "      <th>cmj_2</th>\n",
       "      <th>cmj_3</th>\n",
       "      <th>best_cmj</th>\n",
       "      <th>avg</th>\n",
       "      <th>sd</th>\n",
       "      <th>cv_pct</th>\n",
       "      <th>goal_swc</th>\n",
       "    </tr>\n",
       "  </thead>\n",
       "  <tbody>\n",
       "    <tr>\n",
       "      <th>0</th>\n",
       "      <td>1</td>\n",
       "      <td>1</td>\n",
       "      <td>38.1</td>\n",
       "      <td>43.6</td>\n",
       "      <td>47.7</td>\n",
       "      <td>47.7</td>\n",
       "      <td>43.1</td>\n",
       "      <td>4.8</td>\n",
       "      <td>0.1114</td>\n",
       "      <td>49.33</td>\n",
       "    </tr>\n",
       "    <tr>\n",
       "      <th>1</th>\n",
       "      <td>2</td>\n",
       "      <td>1</td>\n",
       "      <td>34.1</td>\n",
       "      <td>35.7</td>\n",
       "      <td>36.0</td>\n",
       "      <td>36.0</td>\n",
       "      <td>35.3</td>\n",
       "      <td>1.0</td>\n",
       "      <td>0.0283</td>\n",
       "      <td>37.63</td>\n",
       "    </tr>\n",
       "    <tr>\n",
       "      <th>2</th>\n",
       "      <td>3</td>\n",
       "      <td>1</td>\n",
       "      <td>42.8</td>\n",
       "      <td>42.2</td>\n",
       "      <td>41.9</td>\n",
       "      <td>42.8</td>\n",
       "      <td>42.3</td>\n",
       "      <td>0.5</td>\n",
       "      <td>0.0118</td>\n",
       "      <td>44.43</td>\n",
       "    </tr>\n",
       "    <tr>\n",
       "      <th>3</th>\n",
       "      <td>4</td>\n",
       "      <td>1</td>\n",
       "      <td>50.4</td>\n",
       "      <td>52.2</td>\n",
       "      <td>52.2</td>\n",
       "      <td>52.2</td>\n",
       "      <td>51.6</td>\n",
       "      <td>1.0</td>\n",
       "      <td>0.0194</td>\n",
       "      <td>53.83</td>\n",
       "    </tr>\n",
       "    <tr>\n",
       "      <th>4</th>\n",
       "      <td>5</td>\n",
       "      <td>1</td>\n",
       "      <td>37.0</td>\n",
       "      <td>36.1</td>\n",
       "      <td>36.9</td>\n",
       "      <td>37.0</td>\n",
       "      <td>36.7</td>\n",
       "      <td>0.5</td>\n",
       "      <td>0.0136</td>\n",
       "      <td>38.63</td>\n",
       "    </tr>\n",
       "  </tbody>\n",
       "</table>\n",
       "</div>"
      ],
      "text/plain": [
       "   athlete  test_session  cmj_1  cmj_2  cmj_3  best_cmj   avg   sd  cv_pct  \\\n",
       "0        1             1   38.1   43.6   47.7      47.7  43.1  4.8  0.1114   \n",
       "1        2             1   34.1   35.7   36.0      36.0  35.3  1.0  0.0283   \n",
       "2        3             1   42.8   42.2   41.9      42.8  42.3  0.5  0.0118   \n",
       "3        4             1   50.4   52.2   52.2      52.2  51.6  1.0  0.0194   \n",
       "4        5             1   37.0   36.1   36.9      37.0  36.7  0.5  0.0136   \n",
       "\n",
       "   goal_swc  \n",
       "0     49.33  \n",
       "1     37.63  \n",
       "2     44.43  \n",
       "3     53.83  \n",
       "4     38.63  "
      ]
     },
     "execution_count": 41,
     "metadata": {},
     "output_type": "execute_result"
    }
   ],
   "source": [
    "## Add the SWC to each athletes Best CMJ to identify a goal for the next round of testing\n",
    "\n",
    "dat['goal_swc'] = swc + dat['best_cmj']\n",
    "dat.head()"
   ]
  },
  {
   "cell_type": "code",
   "execution_count": 42,
   "metadata": {},
   "outputs": [
    {
     "data": {
      "text/html": [
       "<div>\n",
       "<style scoped>\n",
       "    .dataframe tbody tr th:only-of-type {\n",
       "        vertical-align: middle;\n",
       "    }\n",
       "\n",
       "    .dataframe tbody tr th {\n",
       "        vertical-align: top;\n",
       "    }\n",
       "\n",
       "    .dataframe thead th {\n",
       "        text-align: right;\n",
       "    }\n",
       "</style>\n",
       "<table border=\"1\" class=\"dataframe\">\n",
       "  <thead>\n",
       "    <tr style=\"text-align: right;\">\n",
       "      <th></th>\n",
       "      <th>athlete</th>\n",
       "      <th>test_session</th>\n",
       "      <th>cmj_1</th>\n",
       "      <th>cmj_2</th>\n",
       "      <th>cmj_3</th>\n",
       "      <th>best_cmj</th>\n",
       "      <th>avg</th>\n",
       "      <th>sd</th>\n",
       "      <th>cv_pct</th>\n",
       "      <th>goal_swc</th>\n",
       "      <th>error_measurement</th>\n",
       "    </tr>\n",
       "  </thead>\n",
       "  <tbody>\n",
       "    <tr>\n",
       "      <th>0</th>\n",
       "      <td>1</td>\n",
       "      <td>1</td>\n",
       "      <td>38.1</td>\n",
       "      <td>43.6</td>\n",
       "      <td>47.7</td>\n",
       "      <td>47.7</td>\n",
       "      <td>43.1</td>\n",
       "      <td>4.8</td>\n",
       "      <td>0.1114</td>\n",
       "      <td>49.33</td>\n",
       "      <td>2.3373</td>\n",
       "    </tr>\n",
       "    <tr>\n",
       "      <th>1</th>\n",
       "      <td>2</td>\n",
       "      <td>1</td>\n",
       "      <td>34.1</td>\n",
       "      <td>35.7</td>\n",
       "      <td>36.0</td>\n",
       "      <td>36.0</td>\n",
       "      <td>35.3</td>\n",
       "      <td>1.0</td>\n",
       "      <td>0.0283</td>\n",
       "      <td>37.63</td>\n",
       "      <td>1.7640</td>\n",
       "    </tr>\n",
       "    <tr>\n",
       "      <th>2</th>\n",
       "      <td>3</td>\n",
       "      <td>1</td>\n",
       "      <td>42.8</td>\n",
       "      <td>42.2</td>\n",
       "      <td>41.9</td>\n",
       "      <td>42.8</td>\n",
       "      <td>42.3</td>\n",
       "      <td>0.5</td>\n",
       "      <td>0.0118</td>\n",
       "      <td>44.43</td>\n",
       "      <td>2.0972</td>\n",
       "    </tr>\n",
       "    <tr>\n",
       "      <th>3</th>\n",
       "      <td>4</td>\n",
       "      <td>1</td>\n",
       "      <td>50.4</td>\n",
       "      <td>52.2</td>\n",
       "      <td>52.2</td>\n",
       "      <td>52.2</td>\n",
       "      <td>51.6</td>\n",
       "      <td>1.0</td>\n",
       "      <td>0.0194</td>\n",
       "      <td>53.83</td>\n",
       "      <td>2.5578</td>\n",
       "    </tr>\n",
       "    <tr>\n",
       "      <th>4</th>\n",
       "      <td>5</td>\n",
       "      <td>1</td>\n",
       "      <td>37.0</td>\n",
       "      <td>36.1</td>\n",
       "      <td>36.9</td>\n",
       "      <td>37.0</td>\n",
       "      <td>36.7</td>\n",
       "      <td>0.5</td>\n",
       "      <td>0.0136</td>\n",
       "      <td>38.63</td>\n",
       "      <td>1.8130</td>\n",
       "    </tr>\n",
       "  </tbody>\n",
       "</table>\n",
       "</div>"
      ],
      "text/plain": [
       "   athlete  test_session  cmj_1  cmj_2  cmj_3  best_cmj   avg   sd  cv_pct  \\\n",
       "0        1             1   38.1   43.6   47.7      47.7  43.1  4.8  0.1114   \n",
       "1        2             1   34.1   35.7   36.0      36.0  35.3  1.0  0.0283   \n",
       "2        3             1   42.8   42.2   41.9      42.8  42.3  0.5  0.0118   \n",
       "3        4             1   50.4   52.2   52.2      52.2  51.6  1.0  0.0194   \n",
       "4        5             1   37.0   36.1   36.9      37.0  36.7  0.5  0.0136   \n",
       "\n",
       "   goal_swc  error_measurement  \n",
       "0     49.33             2.3373  \n",
       "1     37.63             1.7640  \n",
       "2     44.43             2.0972  \n",
       "3     53.83             2.5578  \n",
       "4     38.63             1.8130  "
      ]
     },
     "execution_count": 42,
     "metadata": {},
     "output_type": "execute_result"
    }
   ],
   "source": [
    "## Add the error measurement to each athletes Best CMJ\n",
    "\n",
    "dat['error_measurement'] = tem_cv * dat['best_cmj']\n",
    "dat.head()"
   ]
  },
  {
   "cell_type": "code",
   "execution_count": 44,
   "metadata": {},
   "outputs": [
    {
     "data": {
      "text/html": [
       "<div>\n",
       "<style scoped>\n",
       "    .dataframe tbody tr th:only-of-type {\n",
       "        vertical-align: middle;\n",
       "    }\n",
       "\n",
       "    .dataframe tbody tr th {\n",
       "        vertical-align: top;\n",
       "    }\n",
       "\n",
       "    .dataframe thead th {\n",
       "        text-align: right;\n",
       "    }\n",
       "</style>\n",
       "<table border=\"1\" class=\"dataframe\">\n",
       "  <thead>\n",
       "    <tr style=\"text-align: right;\">\n",
       "      <th></th>\n",
       "      <th>athlete</th>\n",
       "      <th>test_session</th>\n",
       "      <th>cmj_1</th>\n",
       "      <th>cmj_2</th>\n",
       "      <th>cmj_3</th>\n",
       "      <th>best_cmj</th>\n",
       "      <th>avg</th>\n",
       "      <th>sd</th>\n",
       "      <th>cv_pct</th>\n",
       "      <th>goal_swc</th>\n",
       "      <th>error_measurement</th>\n",
       "      <th>adj_swc</th>\n",
       "    </tr>\n",
       "  </thead>\n",
       "  <tbody>\n",
       "    <tr>\n",
       "      <th>0</th>\n",
       "      <td>1</td>\n",
       "      <td>1</td>\n",
       "      <td>38.1</td>\n",
       "      <td>43.6</td>\n",
       "      <td>47.7</td>\n",
       "      <td>47.7</td>\n",
       "      <td>43.1</td>\n",
       "      <td>4.8</td>\n",
       "      <td>0.1114</td>\n",
       "      <td>49.33</td>\n",
       "      <td>2.3373</td>\n",
       "      <td>52.59769</td>\n",
       "    </tr>\n",
       "    <tr>\n",
       "      <th>1</th>\n",
       "      <td>2</td>\n",
       "      <td>1</td>\n",
       "      <td>34.1</td>\n",
       "      <td>35.7</td>\n",
       "      <td>36.0</td>\n",
       "      <td>36.0</td>\n",
       "      <td>35.3</td>\n",
       "      <td>1.0</td>\n",
       "      <td>0.0283</td>\n",
       "      <td>37.63</td>\n",
       "      <td>1.7640</td>\n",
       "      <td>40.89769</td>\n",
       "    </tr>\n",
       "    <tr>\n",
       "      <th>2</th>\n",
       "      <td>3</td>\n",
       "      <td>1</td>\n",
       "      <td>42.8</td>\n",
       "      <td>42.2</td>\n",
       "      <td>41.9</td>\n",
       "      <td>42.8</td>\n",
       "      <td>42.3</td>\n",
       "      <td>0.5</td>\n",
       "      <td>0.0118</td>\n",
       "      <td>44.43</td>\n",
       "      <td>2.0972</td>\n",
       "      <td>47.69769</td>\n",
       "    </tr>\n",
       "    <tr>\n",
       "      <th>3</th>\n",
       "      <td>4</td>\n",
       "      <td>1</td>\n",
       "      <td>50.4</td>\n",
       "      <td>52.2</td>\n",
       "      <td>52.2</td>\n",
       "      <td>52.2</td>\n",
       "      <td>51.6</td>\n",
       "      <td>1.0</td>\n",
       "      <td>0.0194</td>\n",
       "      <td>53.83</td>\n",
       "      <td>2.5578</td>\n",
       "      <td>57.09769</td>\n",
       "    </tr>\n",
       "    <tr>\n",
       "      <th>4</th>\n",
       "      <td>5</td>\n",
       "      <td>1</td>\n",
       "      <td>37.0</td>\n",
       "      <td>36.1</td>\n",
       "      <td>36.9</td>\n",
       "      <td>37.0</td>\n",
       "      <td>36.7</td>\n",
       "      <td>0.5</td>\n",
       "      <td>0.0136</td>\n",
       "      <td>38.63</td>\n",
       "      <td>1.8130</td>\n",
       "      <td>41.89769</td>\n",
       "    </tr>\n",
       "  </tbody>\n",
       "</table>\n",
       "</div>"
      ],
      "text/plain": [
       "   athlete  test_session  cmj_1  cmj_2  cmj_3  best_cmj   avg   sd  cv_pct  \\\n",
       "0        1             1   38.1   43.6   47.7      47.7  43.1  4.8  0.1114   \n",
       "1        2             1   34.1   35.7   36.0      36.0  35.3  1.0  0.0283   \n",
       "2        3             1   42.8   42.2   41.9      42.8  42.3  0.5  0.0118   \n",
       "3        4             1   50.4   52.2   52.2      52.2  51.6  1.0  0.0194   \n",
       "4        5             1   37.0   36.1   36.9      37.0  36.7  0.5  0.0136   \n",
       "\n",
       "   goal_swc  error_measurement   adj_swc  \n",
       "0     49.33             2.3373  52.59769  \n",
       "1     37.63             1.7640  40.89769  \n",
       "2     44.43             2.0972  47.69769  \n",
       "3     53.83             2.5578  57.09769  \n",
       "4     38.63             1.8130  41.89769  "
      ]
     },
     "execution_count": 44,
     "metadata": {},
     "output_type": "execute_result"
    }
   ],
   "source": [
    "# One issue is that the SWC is a small fraction (0.2) of the between subject SD\n",
    "# We could use a larger magnitude than 0.2.\n",
    "# For example, we can adjust the swc to be 0.6 instead of 0.2\n",
    "\n",
    "dat['adj_swc'] = 0.6 * dat['best_cmj'].std() + dat['best_cmj']\n",
    "dat.head()"
   ]
  },
  {
   "cell_type": "markdown",
   "metadata": {},
   "source": [
    "**NOTE:** Now the improvement for some athletes that already have a high CMJ at baseline might be untainable, as an improvement for them (given their starting athleticism) might be smaller. Care should be taken when determining such training targets. The heterogeneity of the group also needs to be considered given that the between subject SD was used in the calculation of SWC."
   ]
  },
  {
   "cell_type": "markdown",
   "metadata": {},
   "source": [
    "## Show group performance improvements using Cohen's d\n",
    "\n",
    "Since our data is structured as 3 CMJ's performed in a single session, we will just select jumps 1 and 2 and *pretend* that they are representing an initial CMJ and then a CMJ followed up after a period of training."
   ]
  },
  {
   "cell_type": "code",
   "execution_count": 46,
   "metadata": {},
   "outputs": [
    {
     "data": {
      "text/html": [
       "<div>\n",
       "<style scoped>\n",
       "    .dataframe tbody tr th:only-of-type {\n",
       "        vertical-align: middle;\n",
       "    }\n",
       "\n",
       "    .dataframe tbody tr th {\n",
       "        vertical-align: top;\n",
       "    }\n",
       "\n",
       "    .dataframe thead th {\n",
       "        text-align: right;\n",
       "    }\n",
       "</style>\n",
       "<table border=\"1\" class=\"dataframe\">\n",
       "  <thead>\n",
       "    <tr style=\"text-align: right;\">\n",
       "      <th></th>\n",
       "      <th>athlete</th>\n",
       "      <th>test_session</th>\n",
       "      <th>cmj_1</th>\n",
       "      <th>cmj_2</th>\n",
       "    </tr>\n",
       "  </thead>\n",
       "  <tbody>\n",
       "    <tr>\n",
       "      <th>0</th>\n",
       "      <td>1</td>\n",
       "      <td>1</td>\n",
       "      <td>38.1</td>\n",
       "      <td>43.6</td>\n",
       "    </tr>\n",
       "    <tr>\n",
       "      <th>1</th>\n",
       "      <td>2</td>\n",
       "      <td>1</td>\n",
       "      <td>34.1</td>\n",
       "      <td>35.7</td>\n",
       "    </tr>\n",
       "    <tr>\n",
       "      <th>2</th>\n",
       "      <td>3</td>\n",
       "      <td>1</td>\n",
       "      <td>42.8</td>\n",
       "      <td>42.2</td>\n",
       "    </tr>\n",
       "    <tr>\n",
       "      <th>3</th>\n",
       "      <td>4</td>\n",
       "      <td>1</td>\n",
       "      <td>50.4</td>\n",
       "      <td>52.2</td>\n",
       "    </tr>\n",
       "    <tr>\n",
       "      <th>4</th>\n",
       "      <td>5</td>\n",
       "      <td>1</td>\n",
       "      <td>37.0</td>\n",
       "      <td>36.1</td>\n",
       "    </tr>\n",
       "  </tbody>\n",
       "</table>\n",
       "</div>"
      ],
      "text/plain": [
       "   athlete  test_session  cmj_1  cmj_2\n",
       "0        1             1   38.1   43.6\n",
       "1        2             1   34.1   35.7\n",
       "2        3             1   42.8   42.2\n",
       "3        4             1   50.4   52.2\n",
       "4        5             1   37.0   36.1"
      ]
     },
     "execution_count": 46,
     "metadata": {},
     "output_type": "execute_result"
    }
   ],
   "source": [
    "dat_pre_post = dat.iloc[:, 0:4]\n",
    "dat_pre_post.head()"
   ]
  },
  {
   "cell_type": "code",
   "execution_count": 47,
   "metadata": {},
   "outputs": [],
   "source": [
    "## get summary stats of the two jumping periods\n",
    "\n",
    "avg_pre = dat_pre_post['cmj_1'].mean()\n",
    "sd_pre = dat_pre_post['cmj_1'].std()\n",
    "\n",
    "avg_post = dat_pre_post['cmj_2'].mean()\n",
    "sd_post = dat_pre_post['cmj_2'].std()"
   ]
  },
  {
   "cell_type": "code",
   "execution_count": 48,
   "metadata": {},
   "outputs": [
    {
     "name": "stdout",
     "output_type": "stream",
     "text": [
      "39.72083333333333 7.2086288370358576 40.337500000000006 7.236910973252512\n"
     ]
    }
   ],
   "source": [
    "print(avg_pre,\n",
    "      sd_pre,\n",
    "      avg_post,\n",
    "      sd_post)"
   ]
  },
  {
   "cell_type": "code",
   "execution_count": 49,
   "metadata": {},
   "outputs": [
    {
     "data": {
      "text/plain": [
       "0.6166666666666742"
      ]
     },
     "execution_count": 49,
     "metadata": {},
     "output_type": "execute_result"
    }
   ],
   "source": [
    "# calculate mean difference\n",
    "\n",
    "mean_diff = avg_post - avg_pre\n",
    "mean_diff"
   ]
  },
  {
   "cell_type": "code",
   "execution_count": 50,
   "metadata": {},
   "outputs": [
    {
     "data": {
      "text/plain": [
       "7.22278374814474"
      ]
     },
     "execution_count": 50,
     "metadata": {},
     "output_type": "execute_result"
    }
   ],
   "source": [
    "# calculate pooed SD\n",
    "# NOTE: To square the standard deviations in Python use the ** operator instead of the ^ symbol, which is commonly used\n",
    "\n",
    "sd_pooled = math.sqrt((sd_post**2 + sd_pre**2) / 2)\n",
    "sd_pooled"
   ]
  },
  {
   "cell_type": "code",
   "execution_count": 51,
   "metadata": {},
   "outputs": [
    {
     "data": {
      "text/plain": [
       "0.08537797726881587"
      ]
     },
     "execution_count": 51,
     "metadata": {},
     "output_type": "execute_result"
    }
   ],
   "source": [
    "# calculate Cohen's d Effect Size\n",
    "\n",
    "ES = mean_diff / sd_pooled\n",
    "ES"
   ]
  },
  {
   "cell_type": "markdown",
   "metadata": {},
   "source": [
    "**The difference between jump 1 and jump 2, for the group, was found to be trival.**"
   ]
  },
  {
   "cell_type": "code",
   "execution_count": 52,
   "metadata": {},
   "outputs": [
    {
     "data": {
      "text/html": [
       "<div>\n",
       "<style scoped>\n",
       "    .dataframe tbody tr th:only-of-type {\n",
       "        vertical-align: middle;\n",
       "    }\n",
       "\n",
       "    .dataframe tbody tr th {\n",
       "        vertical-align: top;\n",
       "    }\n",
       "\n",
       "    .dataframe thead th {\n",
       "        text-align: right;\n",
       "    }\n",
       "</style>\n",
       "<table border=\"1\" class=\"dataframe\">\n",
       "  <thead>\n",
       "    <tr style=\"text-align: right;\">\n",
       "      <th></th>\n",
       "      <th>Effect Size Statistic</th>\n",
       "      <th>Qualitative Descriptor</th>\n",
       "    </tr>\n",
       "  </thead>\n",
       "  <tbody>\n",
       "    <tr>\n",
       "      <th>0</th>\n",
       "      <td>&lt; 0.2</td>\n",
       "      <td>Trivial</td>\n",
       "    </tr>\n",
       "    <tr>\n",
       "      <th>1</th>\n",
       "      <td>0.2 - 0.6</td>\n",
       "      <td>Small</td>\n",
       "    </tr>\n",
       "    <tr>\n",
       "      <th>2</th>\n",
       "      <td>0.6 - 1.2</td>\n",
       "      <td>Moderate</td>\n",
       "    </tr>\n",
       "    <tr>\n",
       "      <th>3</th>\n",
       "      <td>1.2 - 2.0</td>\n",
       "      <td>Large</td>\n",
       "    </tr>\n",
       "    <tr>\n",
       "      <th>4</th>\n",
       "      <td>2.0 - 4.0</td>\n",
       "      <td>Very Large</td>\n",
       "    </tr>\n",
       "    <tr>\n",
       "      <th>5</th>\n",
       "      <td>&gt; 4.0</td>\n",
       "      <td>Extremely Large</td>\n",
       "    </tr>\n",
       "  </tbody>\n",
       "</table>\n",
       "</div>"
      ],
      "text/plain": [
       "  Effect Size Statistic Qualitative Descriptor\n",
       "0                 < 0.2                Trivial\n",
       "1             0.2 - 0.6                  Small\n",
       "2             0.6 - 1.2               Moderate\n",
       "3             1.2 - 2.0                  Large\n",
       "4             2.0 - 4.0             Very Large\n",
       "5                 > 4.0        Extremely Large"
      ]
     },
     "execution_count": 52,
     "metadata": {},
     "output_type": "execute_result"
    }
   ],
   "source": [
    "es_interpretation = pd.DataFrame()\n",
    "es_interpretation['Effect Size Statistic'] = ['< 0.2', '0.2 - 0.6', '0.6 - 1.2', '1.2 - 2.0', '2.0 - 4.0', '> 4.0']\n",
    "es_interpretation['Qualitative Descriptor'] = ['Trivial', 'Small', 'Moderate', 'Large', 'Very Large', 'Extremely Large']\n",
    "\n",
    "es_interpretation"
   ]
  },
  {
   "cell_type": "code",
   "execution_count": null,
   "metadata": {},
   "outputs": [],
   "source": []
  }
 ],
 "metadata": {
  "kernelspec": {
   "display_name": "Python 3",
   "language": "python",
   "name": "python3"
  },
  "language_info": {
   "codemirror_mode": {
    "name": "ipython",
    "version": 3
   },
   "file_extension": ".py",
   "mimetype": "text/x-python",
   "name": "python",
   "nbconvert_exporter": "python",
   "pygments_lexer": "ipython3",
   "version": "3.7.0"
  }
 },
 "nbformat": 4,
 "nbformat_minor": 2
}
